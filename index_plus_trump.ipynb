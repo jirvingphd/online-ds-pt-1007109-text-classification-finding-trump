{
 "cells": [
  {
   "cell_type": "markdown",
   "metadata": {},
   "source": [
    "# Text Classification - Lab\n",
    "\n",
    "## Introduction\n",
    "\n",
    "In this lab, we'll use everything we've learned so far to build a model that can classify a text document as one of many possible classes!\n",
    "\n",
    "## Objectives\n",
    "\n",
    "You will be able to:\n",
    "\n",
    "- Perform classification using a text dataset, using sensible preprocessing, tokenization, and feature engineering scheme \n",
    "- Use scikit-learn text vectorizers to fit and transform text data into a format to be used in a ML model \n",
    "\n",
    "\n",
    "\n",
    "# Getting Started\n",
    "\n",
    "For this lab, we'll be working with the classic **_Newsgroups Dataset_**, which is available as a training data set in `sklearn.datasets`. This dataset contains many different articles that fall into 1 of 20 possible classes. Our goal will be to build a classifier that can accurately predict the class of an article based on the features we create from the article itself!\n",
    "\n",
    "Let's get started. Run the cell below to import everything we'll need for this lab. "
   ]
  },
  {
   "cell_type": "code",
   "execution_count": 1,
   "metadata": {
    "ExecuteTime": {
     "end_time": "2020-05-15T23:11:33.883086Z",
     "start_time": "2020-05-15T23:11:32.601275Z"
    }
   },
   "outputs": [],
   "source": [
    "import nltk\n",
    "from nltk.corpus import stopwords\n",
    "import string\n",
    "from nltk import word_tokenize, FreqDist\n",
    "from sklearn.feature_extraction.text import TfidfVectorizer\n",
    "from sklearn.metrics import accuracy_score\n",
    "from sklearn.datasets import fetch_20newsgroups\n",
    "from sklearn.ensemble import RandomForestClassifier\n",
    "from sklearn.naive_bayes import MultinomialNB\n",
    "import pandas as pd\n",
    "import numpy as np\n",
    "np.random.seed(0)"
   ]
  },
  {
   "cell_type": "markdown",
   "metadata": {},
   "source": [
    "Now, we need to fetch our dataset. Run the cell below to download all the newsgroups articles and their corresponding labels. If this is the first time working with this dataset, scikit-learn will need to download all of the articles from an external repository -- the cell below may take a little while to run. \n",
    "\n",
    "The actual dataset is quite large. To save us from extremely long runtimes, we'll work with only a subset of the classes. Here is a list of all the possible classes:\n",
    "\n",
    "<img src='classes.png'>\n",
    "\n",
    "For this lab, we'll only work with the following five:\n",
    "\n",
    "* `'alt.atheism'`\n",
    "* `'comp.windows.x'`\n",
    "* `'rec.sport.hockey'`\n",
    "* `'sci.crypt'`\n",
    "* `'talk.politics.guns'`\n",
    "\n",
    "In the cell below:\n",
    "\n",
    "* Create a list called `categories` that contains the five newsgroups classes listed above, as strings \n",
    "* Get the training set by calling `fetch_20newsgroups()` and passing in the following parameters:\n",
    "    * `subset='train'`\n",
    "    * `categories=categories`\n",
    "    * `remove=('headers', 'footers', 'quotes')` -- this is so that the model can't overfit to metadata included in the articles that sometimes acts as a dead-giveaway as to what class the article belongs to  \n",
    "* Get the testing set as well by passing in the same parameters, with the exception of `subset='test` "
   ]
  },
  {
   "cell_type": "code",
   "execution_count": 2,
   "metadata": {
    "ExecuteTime": {
     "end_time": "2020-05-15T23:11:35.791515Z",
     "start_time": "2020-05-15T23:11:33.884404Z"
    }
   },
   "outputs": [],
   "source": [
    "categories = ['alt.atheism', 'comp.windows.x',\n",
    "              'rec.sport.hockey','sci.crypt','talk.politics.guns']\n",
    "newsgroups_train = fetch_20newsgroups(subset='train',\n",
    "                                      categories=categories,\n",
    "                                      remove=['headers','footers','quotes'])\n",
    "newsgroups_test = fetch_20newsgroups(subset='test',categories=categories,\n",
    "                                        remove=['headers','footers','quotes'])"
   ]
  },
  {
   "cell_type": "markdown",
   "metadata": {},
   "source": [
    "Great! Let's break apart the data and the labels, and then inspect the class names to see what the actual newsgroups are.\n",
    "\n",
    "In the cell below:\n",
    "\n",
    "* Grab the data from `newsgroups_train.data` and store it in the appropriate variable  \n",
    "* Grab the labels from `newsgroups_train.target` and store it in the appropriate variable  \n",
    "* Grab the label names from `newsgroups_train.target_names` and store it in the appropriate variable  \n",
    "* Display the `label_names` so that we can see the different classes of articles that we're working with, and confirm that we grabbed the right ones  "
   ]
  },
  {
   "cell_type": "code",
   "execution_count": 3,
   "metadata": {
    "ExecuteTime": {
     "end_time": "2020-05-15T23:11:35.800743Z",
     "start_time": "2020-05-15T23:11:35.792880Z"
    }
   },
   "outputs": [
    {
     "data": {
      "text/plain": [
       "['alt.atheism',\n",
       " 'comp.windows.x',\n",
       " 'rec.sport.hockey',\n",
       " 'sci.crypt',\n",
       " 'talk.politics.guns']"
      ]
     },
     "execution_count": 3,
     "metadata": {},
     "output_type": "execute_result"
    }
   ],
   "source": [
    "data = newsgroups_train.data\n",
    "target = newsgroups_train.target\n",
    "label_names = newsgroups_train.target_names\n",
    "label_names"
   ]
  },
  {
   "cell_type": "markdown",
   "metadata": {},
   "source": [
    "Finally, let's check the shape of `data` to see what our data looks like. We can do this by checking the `.shape` attribute of `newsgroups_train.filenames`.\n",
    "\n",
    "Do this now in the cell below."
   ]
  },
  {
   "cell_type": "code",
   "execution_count": 4,
   "metadata": {
    "ExecuteTime": {
     "end_time": "2020-05-15T23:11:35.806171Z",
     "start_time": "2020-05-15T23:11:35.802159Z"
    }
   },
   "outputs": [
    {
     "data": {
      "text/plain": [
       "(2814,)"
      ]
     },
     "execution_count": 4,
     "metadata": {},
     "output_type": "execute_result"
    }
   ],
   "source": [
    "# Your code here\n",
    "newsgroups_train.filenames.shape"
   ]
  },
  {
   "cell_type": "markdown",
   "metadata": {},
   "source": [
    "Our dataset contains 2,814 different articles spread across the five classes we chose. \n",
    "\n",
    "### Cleaning and Preprocessing Our Data\n",
    "\n",
    "Now that we have our data, the fun part begins. We'll need to begin by preprocessing and cleaning our text data. As you've seen throughout this section, preprocessing text data is a bit more challenging that working with more traditional data types because there's no clear-cut answer for exactly what sort of preprocessing and cleaning we need to do. Before we can begin cleaning and preprocessing our text data, we need to make some decisions about things such as:\n",
    "\n",
    "* Do we remove stop words or not?\n",
    "* Do we stem or lemmatize our text data, or leave the words as is?\n",
    "* Is basic tokenization enough, or do we need to support special edge cases through the use of regex?\n",
    "* Do we use the entire vocabulary, or just limit the model to a subset of the most frequently used words? If so, how many?\n",
    "* Do we engineer other features, such as bigrams, or POS tags, or Mutual Information Scores?\n",
    "* What sort of vectorization should we use in our model? Boolean Vectorization? Count Vectorization? TF-IDF? More advanced vectorization strategies such as Word2Vec?\n",
    "\n",
    "\n",
    "These are all questions that we'll need to think about pretty much anytime we begin working with text data. \n",
    "\n",
    "Let's get right into it. We'll start by getting a list of all of the english stopwords, and concatenating them with a list of all the punctuation. \n",
    "\n",
    "In the cell below:\n",
    "\n",
    "* Get all the english stopwords from `nltk` \n",
    "* Get all of the punctuation from `string.punctuation`, and convert it to a list \n",
    "* Add the two lists together. Name the result `stopwords_list` \n",
    "* Create another list containing various types of empty strings and ellipses, such as `[\"''\", '\"\"', '...', '``']`. Add this to our `stopwords_list`, so that we won't have tokens that are only empty quotes and such  "
   ]
  },
  {
   "cell_type": "code",
   "execution_count": 5,
   "metadata": {
    "ExecuteTime": {
     "end_time": "2020-05-15T23:11:35.812668Z",
     "start_time": "2020-05-15T23:11:35.807425Z"
    }
   },
   "outputs": [
    {
     "data": {
      "text/plain": [
       "<WordListCorpusReader in '/Users/jamesirving/nltk_data/corpora/stopwords'>"
      ]
     },
     "execution_count": 5,
     "metadata": {},
     "output_type": "execute_result"
    }
   ],
   "source": [
    "nltk.corpus.stopwords"
   ]
  },
  {
   "cell_type": "code",
   "execution_count": 6,
   "metadata": {
    "ExecuteTime": {
     "end_time": "2020-05-15T23:11:35.824183Z",
     "start_time": "2020-05-15T23:11:35.814394Z"
    }
   },
   "outputs": [],
   "source": [
    "import nltk\n",
    "import string\n",
    "stopwords_list = nltk.corpus.stopwords.words('english')\n",
    "stopwords_list.extend(string.punctuation)\n",
    "stopwords_list.extend([\"''\", '\"\"', '...', '`'])"
   ]
  },
  {
   "cell_type": "code",
   "execution_count": 7,
   "metadata": {
    "ExecuteTime": {
     "end_time": "2020-05-15T23:11:35.830385Z",
     "start_time": "2020-05-15T23:11:35.825556Z"
    }
   },
   "outputs": [
    {
     "data": {
      "text/plain": [
       "['i',\n",
       " 'me',\n",
       " 'my',\n",
       " 'myself',\n",
       " 'we',\n",
       " 'our',\n",
       " 'ours',\n",
       " 'ourselves',\n",
       " 'you',\n",
       " \"you're\",\n",
       " \"you've\",\n",
       " \"you'll\",\n",
       " \"you'd\",\n",
       " 'your',\n",
       " 'yours',\n",
       " 'yourself',\n",
       " 'yourselves',\n",
       " 'he',\n",
       " 'him',\n",
       " 'his',\n",
       " 'himself',\n",
       " 'she',\n",
       " \"she's\",\n",
       " 'her',\n",
       " 'hers',\n",
       " 'herself',\n",
       " 'it',\n",
       " \"it's\",\n",
       " 'its',\n",
       " 'itself',\n",
       " 'they',\n",
       " 'them',\n",
       " 'their',\n",
       " 'theirs',\n",
       " 'themselves',\n",
       " 'what',\n",
       " 'which',\n",
       " 'who',\n",
       " 'whom',\n",
       " 'this',\n",
       " 'that',\n",
       " \"that'll\",\n",
       " 'these',\n",
       " 'those',\n",
       " 'am',\n",
       " 'is',\n",
       " 'are',\n",
       " 'was',\n",
       " 'were',\n",
       " 'be',\n",
       " 'been',\n",
       " 'being',\n",
       " 'have',\n",
       " 'has',\n",
       " 'had',\n",
       " 'having',\n",
       " 'do',\n",
       " 'does',\n",
       " 'did',\n",
       " 'doing',\n",
       " 'a',\n",
       " 'an',\n",
       " 'the',\n",
       " 'and',\n",
       " 'but',\n",
       " 'if',\n",
       " 'or',\n",
       " 'because',\n",
       " 'as',\n",
       " 'until',\n",
       " 'while',\n",
       " 'of',\n",
       " 'at',\n",
       " 'by',\n",
       " 'for',\n",
       " 'with',\n",
       " 'about',\n",
       " 'against',\n",
       " 'between',\n",
       " 'into',\n",
       " 'through',\n",
       " 'during',\n",
       " 'before',\n",
       " 'after',\n",
       " 'above',\n",
       " 'below',\n",
       " 'to',\n",
       " 'from',\n",
       " 'up',\n",
       " 'down',\n",
       " 'in',\n",
       " 'out',\n",
       " 'on',\n",
       " 'off',\n",
       " 'over',\n",
       " 'under',\n",
       " 'again',\n",
       " 'further',\n",
       " 'then',\n",
       " 'once',\n",
       " 'here',\n",
       " 'there',\n",
       " 'when',\n",
       " 'where',\n",
       " 'why',\n",
       " 'how',\n",
       " 'all',\n",
       " 'any',\n",
       " 'both',\n",
       " 'each',\n",
       " 'few',\n",
       " 'more',\n",
       " 'most',\n",
       " 'other',\n",
       " 'some',\n",
       " 'such',\n",
       " 'no',\n",
       " 'nor',\n",
       " 'not',\n",
       " 'only',\n",
       " 'own',\n",
       " 'same',\n",
       " 'so',\n",
       " 'than',\n",
       " 'too',\n",
       " 'very',\n",
       " 's',\n",
       " 't',\n",
       " 'can',\n",
       " 'will',\n",
       " 'just',\n",
       " 'don',\n",
       " \"don't\",\n",
       " 'should',\n",
       " \"should've\",\n",
       " 'now',\n",
       " 'd',\n",
       " 'll',\n",
       " 'm',\n",
       " 'o',\n",
       " 're',\n",
       " 've',\n",
       " 'y',\n",
       " 'ain',\n",
       " 'aren',\n",
       " \"aren't\",\n",
       " 'couldn',\n",
       " \"couldn't\",\n",
       " 'didn',\n",
       " \"didn't\",\n",
       " 'doesn',\n",
       " \"doesn't\",\n",
       " 'hadn',\n",
       " \"hadn't\",\n",
       " 'hasn',\n",
       " \"hasn't\",\n",
       " 'haven',\n",
       " \"haven't\",\n",
       " 'isn',\n",
       " \"isn't\",\n",
       " 'ma',\n",
       " 'mightn',\n",
       " \"mightn't\",\n",
       " 'mustn',\n",
       " \"mustn't\",\n",
       " 'needn',\n",
       " \"needn't\",\n",
       " 'shan',\n",
       " \"shan't\",\n",
       " 'shouldn',\n",
       " \"shouldn't\",\n",
       " 'wasn',\n",
       " \"wasn't\",\n",
       " 'weren',\n",
       " \"weren't\",\n",
       " 'won',\n",
       " \"won't\",\n",
       " 'wouldn',\n",
       " \"wouldn't\",\n",
       " '!',\n",
       " '\"',\n",
       " '#',\n",
       " '$',\n",
       " '%',\n",
       " '&',\n",
       " \"'\",\n",
       " '(',\n",
       " ')',\n",
       " '*',\n",
       " '+',\n",
       " ',',\n",
       " '-',\n",
       " '.',\n",
       " '/',\n",
       " ':',\n",
       " ';',\n",
       " '<',\n",
       " '=',\n",
       " '>',\n",
       " '?',\n",
       " '@',\n",
       " '[',\n",
       " '\\\\',\n",
       " ']',\n",
       " '^',\n",
       " '_',\n",
       " '`',\n",
       " '{',\n",
       " '|',\n",
       " '}',\n",
       " '~',\n",
       " \"''\",\n",
       " '\"\"',\n",
       " '...',\n",
       " '`']"
      ]
     },
     "execution_count": 7,
     "metadata": {},
     "output_type": "execute_result"
    }
   ],
   "source": [
    "stopwords_list"
   ]
  },
  {
   "cell_type": "markdown",
   "metadata": {},
   "source": [
    "Great! We'll leave these alone for now, until we're ready to remove stop words after the tokenization step. \n",
    "\n",
    "Next, let's try tokenizing our dataset. In order to save ourselves some time, we'll write a function to clean our dataset, and then use Python's built-in `map()` function to clean every article in the dataset at the same time. \n",
    "\n",
    "In the cell below, complete the `process_article()` function. This function should:\n",
    "\n",
    "* Take in one parameter, `article` \n",
    "* Tokenize the article using the appropriate function from `nltk` \n",
    "* Lowercase every token, remove any stopwords found in `stopwords_list` from the tokenized article, and return the results "
   ]
  },
  {
   "cell_type": "code",
   "execution_count": 8,
   "metadata": {
    "ExecuteTime": {
     "end_time": "2020-05-15T23:11:35.836043Z",
     "start_time": "2020-05-15T23:11:35.833159Z"
    }
   },
   "outputs": [],
   "source": [
    "def process_article(article):\n",
    "    tokens = nltk.tokenize.word_tokenize(article)  \n",
    "    words = [w.lower() for w in tokens if w.lower() not in stopwords_list]\n",
    "    return words"
   ]
  },
  {
   "cell_type": "markdown",
   "metadata": {},
   "source": [
    "Now that we have this function, let's go ahead and preprocess our data, and then move into exploring our dataset. \n",
    "\n",
    "In the cell below:\n",
    "\n",
    "* Use Python's `map()` function and pass in two parameters: the `process_article` function and the `data`. Make sure to wrap the whole map statement in a `list()`.\n",
    "\n",
    "**_Note:_** Running this cell may take a minute or two!"
   ]
  },
  {
   "cell_type": "code",
   "execution_count": 9,
   "metadata": {
    "ExecuteTime": {
     "end_time": "2020-05-15T23:11:42.007620Z",
     "start_time": "2020-05-15T23:11:35.837956Z"
    }
   },
   "outputs": [
    {
     "data": {
      "text/plain": [
       "[['note',\n",
       "  'trial',\n",
       "  'updates',\n",
       "  'summarized',\n",
       "  'reports',\n",
       "  '_idaho',\n",
       "  'statesman_',\n",
       "  'local',\n",
       "  'nbc',\n",
       "  'affiliate',\n",
       "  'television',\n",
       "  'station',\n",
       "  'ktvb',\n",
       "  'channel',\n",
       "  '7',\n",
       "  'randy',\n",
       "  'weaver/kevin',\n",
       "  'harris',\n",
       "  'trial',\n",
       "  'update',\n",
       "  'day',\n",
       "  '4',\n",
       "  'friday',\n",
       "  'april',\n",
       "  '16',\n",
       "  '1993',\n",
       "  'fourth',\n",
       "  'day',\n",
       "  'trial',\n",
       "  'synopsis',\n",
       "  'defense',\n",
       "  'attorney',\n",
       "  'gerry',\n",
       "  'spence',\n",
       "  'cross-examined',\n",
       "  'agent',\n",
       "  'cooper',\n",
       "  'repeated',\n",
       "  'objections',\n",
       "  'prosecutor',\n",
       "  'ronald',\n",
       "  'howen',\n",
       "  'spence',\n",
       "  'moved',\n",
       "  'mistrial',\n",
       "  'denied',\n",
       "  'day',\n",
       "  'marked',\n",
       "  'caustic',\n",
       "  'cross-examination',\n",
       "  'deputy',\n",
       "  'marshal',\n",
       "  'larry',\n",
       "  'cooper',\n",
       "  'defense',\n",
       "  'attorney',\n",
       "  'gerry',\n",
       "  'spence',\n",
       "  'although',\n",
       "  'spence',\n",
       "  'explicitly',\n",
       "  'stated',\n",
       "  'one',\n",
       "  'angle',\n",
       "  'stategy',\n",
       "  'must',\n",
       "  'involve',\n",
       "  'destroying',\n",
       "  'credibility',\n",
       "  'agent',\n",
       "  'cooper',\n",
       "  'cooper',\n",
       "  'government',\n",
       "  \"'s\",\n",
       "  'eyewitness',\n",
       "  'death',\n",
       "  'agent',\n",
       "  'degan',\n",
       "  'spence',\n",
       "  'attacked',\n",
       "  'cooper',\n",
       "  \"'s\",\n",
       "  'credibility',\n",
       "  'pointing',\n",
       "  'discrepancies',\n",
       "  'cooper',\n",
       "  \"'s\",\n",
       "  'statements',\n",
       "  'last',\n",
       "  'september',\n",
       "  'made',\n",
       "  'court',\n",
       "  'cooper',\n",
       "  'conceded',\n",
       "  '``',\n",
       "  'things',\n",
       "  'compressed',\n",
       "  'seconds',\n",
       "  \"'s\",\n",
       "  'difficult',\n",
       "  'remember',\n",
       "  'went',\n",
       "  'first',\n",
       "  'cooper',\n",
       "  'acknowledged',\n",
       "  'carried',\n",
       "  '``',\n",
       "  '9mm',\n",
       "  'colt',\n",
       "  'commando',\n",
       "  'submachine',\n",
       "  'gun',\n",
       "  'silenced',\n",
       "  'barrel',\n",
       "  'thought',\n",
       "  'colt',\n",
       "  'commando',\n",
       "  'revolver',\n",
       "  'cooper',\n",
       "  'continued',\n",
       "  'stating',\n",
       "  'federal',\n",
       "  'agents',\n",
       "  'specific',\n",
       "  'plans',\n",
       "  'use',\n",
       "  'weapon',\n",
       "  'started',\n",
       "  'kill',\n",
       "  'weaver',\n",
       "  \"'s\",\n",
       "  'dog',\n",
       "  'spence',\n",
       "  'asked',\n",
       "  'seven',\n",
       "  'cartridges',\n",
       "  'could',\n",
       "  'fired',\n",
       "  \"degan's\",\n",
       "  'm-16',\n",
       "  'rifle',\n",
       "  'degan',\n",
       "  'apparently',\n",
       "  'dead',\n",
       "  'cooper',\n",
       "  'could',\n",
       "  'say',\n",
       "  'sure',\n",
       "  'degan',\n",
       "  'return',\n",
       "  'fire',\n",
       "  'going',\n",
       "  'spence',\n",
       "  'continued',\n",
       "  'asking',\n",
       "  'many',\n",
       "  'agents',\n",
       "  'extent',\n",
       "  'cooper',\n",
       "  'discussed',\n",
       "  'last',\n",
       "  'august',\n",
       "  \"'s\",\n",
       "  'events',\n",
       "  'cooper',\n",
       "  'responded',\n",
       "  '``',\n",
       "  \"'re\",\n",
       "  'implying',\n",
       "  'got',\n",
       "  'story',\n",
       "  'together',\n",
       "  \"'re\",\n",
       "  'wrong',\n",
       "  'counselor',\n",
       "  'spence',\n",
       "  'continued',\n",
       "  'advance',\n",
       "  'defense',\n",
       "  \"'s\",\n",
       "  'version',\n",
       "  'events',\n",
       "  'namely',\n",
       "  'marshal',\n",
       "  'started',\n",
       "  'shooting',\n",
       "  'killing',\n",
       "  'weaver',\n",
       "  \"'s\",\n",
       "  'dog',\n",
       "  'cooper',\n",
       "  'disagreed',\n",
       "  'assistant',\n",
       "  'u.s.',\n",
       "  'attorney',\n",
       "  'ronald',\n",
       "  'howen',\n",
       "  'repeatedly',\n",
       "  'objected',\n",
       "  \"spence's\",\n",
       "  'virulent',\n",
       "  'cross-examination',\n",
       "  'agent',\n",
       "  'cooper',\n",
       "  'arguing',\n",
       "  'questions',\n",
       "  'repetitive',\n",
       "  'spence',\n",
       "  'wasting',\n",
       "  'time',\n",
       "  'howen',\n",
       "  'also',\n",
       "  'complained',\n",
       "  'spence',\n",
       "  'improperly',\n",
       "  'using',\n",
       "  'cross-examination',\n",
       "  'advance',\n",
       "  'defense',\n",
       "  \"'s\",\n",
       "  'version',\n",
       "  'events',\n",
       "  'u.s.',\n",
       "  'district',\n",
       "  'judge',\n",
       "  'edward',\n",
       "  'lodge',\n",
       "  'sustained',\n",
       "  'many',\n",
       "  'objections',\n",
       "  'however',\n",
       "  'lawyers',\n",
       "  'persisted',\n",
       "  'judge',\n",
       "  'lodge',\n",
       "  'jury',\n",
       "  'leave',\n",
       "  'room',\n",
       "  'proceded',\n",
       "  'admonish',\n",
       "  'attorneys',\n",
       "  '``',\n",
       "  \"'m\",\n",
       "  'going',\n",
       "  'play',\n",
       "  'games',\n",
       "  'either',\n",
       "  'counsel',\n",
       "  'personality',\n",
       "  'problem',\n",
       "  'day',\n",
       "  '1',\n",
       "  'start',\n",
       "  'acting',\n",
       "  'like',\n",
       "  'professionals',\n",
       "  'spence',\n",
       "  'told',\n",
       "  'judge',\n",
       "  '``',\n",
       "  'evidence',\n",
       "  \"'ll\",\n",
       "  'see',\n",
       "  'agent',\n",
       "  'larry',\n",
       "  'cooper',\n",
       "  'testimony',\n",
       "  'credible',\n",
       "  'panicked',\n",
       "  'remember',\n",
       "  'sequence',\n",
       "  'events',\n",
       "  'spence',\n",
       "  'continued',\n",
       "  '``',\n",
       "  \"'re\",\n",
       "  'going',\n",
       "  'find',\n",
       "  'unlikely',\n",
       "  'similarity',\n",
       "  'almost',\n",
       "  'come',\n",
       "  'cookie',\n",
       "  'cutter',\n",
       "  'testimony',\n",
       "  'mr.',\n",
       "  'cooper',\n",
       "  'witnesses',\n",
       "  'spence',\n",
       "  'moved',\n",
       "  'mistrial',\n",
       "  'grounds',\n",
       "  'howen',\n",
       "  \"'s\",\n",
       "  'repeated',\n",
       "  'objections',\n",
       "  'would',\n",
       "  'prevent',\n",
       "  'fair',\n",
       "  'trial',\n",
       "  '``',\n",
       "  'ca',\n",
       "  \"n't\",\n",
       "  'fair',\n",
       "  'trial',\n",
       "  'jury',\n",
       "  'believes',\n",
       "  \"'m\",\n",
       "  'sort',\n",
       "  'charlatan',\n",
       "  'jury',\n",
       "  'believes',\n",
       "  \"i'm\",\n",
       "  'bending',\n",
       "  'rules',\n",
       "  'engaging',\n",
       "  'delaying',\n",
       "  'tactic',\n",
       "  \"i'm\",\n",
       "  'violating',\n",
       "  'court',\n",
       "  'orders',\n",
       "  'judge',\n",
       "  'lodge',\n",
       "  'called',\n",
       "  'notion',\n",
       "  'repeated',\n",
       "  'sustainings',\n",
       "  \"howen's\",\n",
       "  'objections',\n",
       "  'somehow',\n",
       "  'prejudiced',\n",
       "  'jury',\n",
       "  '``',\n",
       "  'preposterous',\n",
       "  'denied',\n",
       "  'motion',\n",
       "  'mistrial',\n",
       "  'lodge',\n",
       "  'tell',\n",
       "  'howen',\n",
       "  'restrict',\n",
       "  'comments',\n",
       "  'objecting',\n",
       "  'trial',\n",
       "  'resumed',\n",
       "  'prosecution',\n",
       "  'calling',\n",
       "  'fbi',\n",
       "  'special',\n",
       "  'agent',\n",
       "  'greg',\n",
       "  'rampton',\n",
       "  'prosecution',\n",
       "  \"'s\",\n",
       "  'purpose',\n",
       "  'simply',\n",
       "  'introduce',\n",
       "  'five',\n",
       "  'weapons',\n",
       "  'found',\n",
       "  'cabin',\n",
       "  'evidence',\n",
       "  'however',\n",
       "  'defense',\n",
       "  'seized',\n",
       "  'opportunity',\n",
       "  'address',\n",
       "  'cooper',\n",
       "  \"'s\",\n",
       "  'credibility',\n",
       "  'defense',\n",
       "  'attorney',\n",
       "  'ellison',\n",
       "  'matthews',\n",
       "  'harris',\n",
       "  'attorney',\n",
       "  'questioned',\n",
       "  'rampton',\n",
       "  'dog',\n",
       "  'rampton',\n",
       "  'stated',\n",
       "  'specific',\n",
       "  'plans',\n",
       "  'kill',\n",
       "  'weaver',\n",
       "  \"'s\",\n",
       "  'dog',\n",
       "  'without',\n",
       "  'detected',\n",
       "  'matthews',\n",
       "  'rampton',\n",
       "  'read',\n",
       "  'septtember',\n",
       "  '15',\n",
       "  '1992',\n",
       "  'transcript',\n",
       "  'rampton',\n",
       "  'said',\n",
       "  'cooper',\n",
       "  'said',\n",
       "  'purpose',\n",
       "  'silenced',\n",
       "  'weapon',\n",
       "  'kill',\n",
       "  'dog',\n",
       "  'without',\n",
       "  'detected',\n",
       "  'dog',\n",
       "  'chased',\n",
       "  'rampton',\n",
       "  'acknowledged',\n",
       "  'believed',\n",
       "  'cooper',\n",
       "  'said',\n",
       "  'could',\n",
       "  'remember',\n",
       "  'stated',\n",
       "  '``',\n",
       "  'conduct',\n",
       "  'primary',\n",
       "  'interview',\n",
       "  'deputy',\n",
       "  'cooper',\n",
       "  'conversations',\n",
       "  'since',\n",
       "  'interview',\n",
       "  'conducted'],\n",
       " [],\n",
       " [\"'m\",\n",
       "  'trying',\n",
       "  'create',\n",
       "  'button',\n",
       "  'label',\n",
       "  'bitmap',\n",
       "  'using',\n",
       "  'menubutton',\n",
       "  'widget',\n",
       "  'possible',\n",
       "  'right',\n",
       "  'get',\n",
       "  'bitmap',\n",
       "  '--',\n",
       "  'sign',\n",
       "  'label',\n",
       "  'help',\n",
       "  'would',\n",
       "  'appreciated'],\n",
       " ['hi',\n",
       "  \"'ve\",\n",
       "  'finished',\n",
       "  'reading',\n",
       "  's414',\n",
       "  'several',\n",
       "  'questions',\n",
       "  'brady',\n",
       "  'bills',\n",
       "  's414',\n",
       "  'hr1025',\n",
       "  '1',\n",
       "  '_are_',\n",
       "  'current',\n",
       "  'versions',\n",
       "  'brady',\n",
       "  'bill',\n",
       "  'status',\n",
       "  'bills',\n",
       "  \"'ve\",\n",
       "  'heard',\n",
       "  \"'re\",\n",
       "  '``',\n",
       "  'committee',\n",
       "  'close',\n",
       "  'made',\n",
       "  'law',\n",
       "  '2',\n",
       "  's414',\n",
       "  'hr1025',\n",
       "  'seem',\n",
       "  'fairly',\n",
       "  'similar',\n",
       "  'important',\n",
       "  'differences',\n",
       "  'missed',\n",
       "  '3',\n",
       "  's414',\n",
       "  'seems',\n",
       "  'serious',\n",
       "  'loopholes',\n",
       "  'a.',\n",
       "  's414',\n",
       "  \"n't\",\n",
       "  'specify',\n",
       "  '``',\n",
       "  'appeals',\n",
       "  'process',\n",
       "  'wrongful',\n",
       "  'denial',\n",
       "  'waiting',\n",
       "  'period',\n",
       "  'civil',\n",
       "  'lawsuit',\n",
       "  's414',\n",
       "  'appeals',\n",
       "  'process',\n",
       "  'required',\n",
       "  'instant',\n",
       "  'background',\n",
       "  'check',\n",
       "  'system',\n",
       "  'established',\n",
       "  'b.',\n",
       "  'police',\n",
       "  'explicitly',\n",
       "  'liable',\n",
       "  'mistakes',\n",
       "  'denying/approving',\n",
       "  'using',\n",
       "  'existing',\n",
       "  'records',\n",
       "  'would',\n",
       "  'sue',\n",
       "  '``',\n",
       "  'inaccurate',\n",
       "  'record',\n",
       "  'corrected',\n",
       "  'c.',\n",
       "  's414',\n",
       "  'includes',\n",
       "  'exception-to-waiting-period',\n",
       "  'clause',\n",
       "  'person',\n",
       "  'convince',\n",
       "  'local',\n",
       "  'chief',\n",
       "  'law-enforcement',\n",
       "  'officer',\n",
       "  'cleo',\n",
       "  'immediate',\n",
       "  'threat',\n",
       "  'life',\n",
       "  'life',\n",
       "  'household',\n",
       "  'member',\n",
       "  's414',\n",
       "  \"n't\",\n",
       "  'say',\n",
       "  'exactly',\n",
       "  'considered',\n",
       "  '``',\n",
       "  'threat',\n",
       "  'place',\n",
       "  'limit',\n",
       "  'long',\n",
       "  'cleo',\n",
       "  'takes',\n",
       "  'issue',\n",
       "  'exception',\n",
       "  'statement',\n",
       "  'true',\n",
       "  'misunderstood',\n",
       "  \"'holes\",\n",
       "  '4',\n",
       "  's414',\n",
       "  \"'s\",\n",
       "  'stop',\n",
       "  'person',\n",
       "  '``',\n",
       "  'clean',\n",
       "  'record',\n",
       "  'buying',\n",
       "  'guns',\n",
       "  'grinding',\n",
       "  'serial',\n",
       "  'numbers',\n",
       "  'selling',\n",
       "  'crooks',\n",
       "  'minimum',\n",
       "  'additional',\n",
       "  'laws',\n",
       "  'needed',\n",
       "  'prevent',\n",
       "  \"'seems\",\n",
       "  'min',\n",
       "  '``',\n",
       "  'gun',\n",
       "  'counting',\n",
       "  'scheme',\n",
       "  'would',\n",
       "  'needed',\n",
       "  'e.g.',\n",
       "  '``',\n",
       "  'john',\n",
       "  'doe',\n",
       "  'owns',\n",
       "  'n',\n",
       "  'guns',\n",
       "  's414',\n",
       "  'passes',\n",
       "  'would',\n",
       "  \"n't\",\n",
       "  'surprised',\n",
       "  'see',\n",
       "  'legislation',\n",
       "  'stricter',\n",
       "  'harder-to-forge',\n",
       "  'i.d',\n",
       "  \"'s\",\n",
       "  'plus',\n",
       "  'national',\n",
       "  'gun',\n",
       "  'registration',\n",
       "  'justified',\n",
       "  'need',\n",
       "  'make',\n",
       "  'brady',\n",
       "  'bill',\n",
       "  'work',\n",
       "  'please',\n",
       "  'comment',\n",
       "  \"'m\",\n",
       "  'mainly',\n",
       "  'interested',\n",
       "  'specific',\n",
       "  'problems',\n",
       "  'current',\n",
       "  'legislation',\n",
       "  '--',\n",
       "  \"n't\",\n",
       "  'mean',\n",
       "  'start',\n",
       "  'general',\n",
       "  'discussion',\n",
       "  'merits',\n",
       "  'any/all',\n",
       "  'waiting-period',\n",
       "  'bills',\n",
       "  'ever',\n",
       "  'proposed'],\n",
       " ['unfortunately',\n",
       "  'phrasing',\n",
       "  'ambiguous',\n",
       "  're-writing',\n",
       "  'carefully',\n",
       "  'least',\n",
       "  'two',\n",
       "  'possibilities',\n",
       "  'first',\n",
       "  'things',\n",
       "  'called',\n",
       "  '``',\n",
       "  'mercedes',\n",
       "  'cars',\n",
       "  'girl',\n",
       "  'called',\n",
       "  '``',\n",
       "  'mercedes',\n",
       "  'therefore',\n",
       "  'girl',\n",
       "  'car',\n",
       "  'entirely',\n",
       "  'valid',\n",
       "  'piece',\n",
       "  'logical',\n",
       "  'deduction',\n",
       "  'sound',\n",
       "  'first',\n",
       "  'statement',\n",
       "  'false',\n",
       "  'similarly',\n",
       "  'would',\n",
       "  'hold',\n",
       "  \"jim's\",\n",
       "  'example',\n",
       "  'valid',\n",
       "  'sound',\n",
       "  'another',\n",
       "  'possible',\n",
       "  'interpretation',\n",
       "  'wrote',\n",
       "  'exists',\n",
       "  'least',\n",
       "  'one',\n",
       "  'car',\n",
       "  'called',\n",
       "  '``',\n",
       "  'mercedes',\n",
       "  'girl',\n",
       "  'called',\n",
       "  '``',\n",
       "  'mercedes',\n",
       "  'therefore',\n",
       "  'girl',\n",
       "  'car',\n",
       "  '--',\n",
       "  \"n't\",\n",
       "  'valid']]"
      ]
     },
     "execution_count": 9,
     "metadata": {},
     "output_type": "execute_result"
    }
   ],
   "source": [
    "processed_data = list(map(process_article,data))\n",
    "processed_data[:5]"
   ]
  },
  {
   "cell_type": "code",
   "execution_count": 10,
   "metadata": {
    "ExecuteTime": {
     "end_time": "2020-05-15T23:11:42.010555Z",
     "start_time": "2020-05-15T23:11:42.008779Z"
    }
   },
   "outputs": [],
   "source": [
    "# processed_data = None"
   ]
  },
  {
   "cell_type": "markdown",
   "metadata": {},
   "source": [
    "Great. Now, let's inspect the first article in `processed_data` to see how it looks. \n",
    "\n",
    "Do this now in the cell below."
   ]
  },
  {
   "cell_type": "code",
   "execution_count": 11,
   "metadata": {
    "ExecuteTime": {
     "end_time": "2020-05-15T23:11:42.014084Z",
     "start_time": "2020-05-15T23:11:42.011948Z"
    }
   },
   "outputs": [],
   "source": [
    "# processed_data[0]"
   ]
  },
  {
   "cell_type": "markdown",
   "metadata": {},
   "source": [
    "Now, let's move onto exploring the dataset a bit more. Let's start by getting the total vocabulary size of the training dataset. We can do this by creating a `set` object and then using it's `.update()` method to iteratively add each article. Since it's a set, it will only contain unique words, with no duplicates. \n",
    "\n",
    "In the cell below:\n",
    "\n",
    "* Create a `set()` object called `total_vocab` \n",
    "* Iterate through each tokenized article in `processed_data` and add it to the set using the set's `.update()` method \n",
    "* Once all articles have been added, get the total number of unique words in our training set by taking the length of the set "
   ]
  },
  {
   "cell_type": "code",
   "execution_count": 12,
   "metadata": {
    "ExecuteTime": {
     "end_time": "2020-05-15T23:11:42.054182Z",
     "start_time": "2020-05-15T23:11:42.016110Z"
    }
   },
   "outputs": [
    {
     "data": {
      "text/plain": [
       "46991"
      ]
     },
     "execution_count": 12,
     "metadata": {},
     "output_type": "execute_result"
    }
   ],
   "source": [
    "total_vocab = set()\n",
    "[total_vocab.update(text) for text in processed_data]\n",
    "len(total_vocab)\n"
   ]
  },
  {
   "cell_type": "markdown",
   "metadata": {},
   "source": [
    "### Exploring Data With Frequency Distributions\n",
    "\n",
    "Great -- our processed dataset contains 46,990 unique words! \n",
    "\n",
    "Next, let's create a frequency distribution to see which words are used the most! \n",
    "\n",
    "In order to do this, we'll need to concatenate every article into a single list, and then pass this list to `FreqDist()`. \n",
    "\n",
    "In the cell below:\n",
    "\n",
    "* Create an empty list called `articles_concat` \n",
    "* Iterate through `processed_data` and add every article it contains to `articles_concat` \n",
    "* Pass `articles_concat` as input to `FreqDist()`  \n",
    "* Display the top 200 most used words  "
   ]
  },
  {
   "cell_type": "code",
   "execution_count": 13,
   "metadata": {
    "ExecuteTime": {
     "end_time": "2020-05-15T23:11:42.057928Z",
     "start_time": "2020-05-15T23:11:42.055728Z"
    }
   },
   "outputs": [],
   "source": [
    "# processed_data"
   ]
  },
  {
   "cell_type": "code",
   "execution_count": 14,
   "metadata": {
    "ExecuteTime": {
     "end_time": "2020-05-15T23:11:42.068798Z",
     "start_time": "2020-05-15T23:11:42.059783Z"
    }
   },
   "outputs": [
    {
     "data": {
      "text/plain": [
       "416037"
      ]
     },
     "execution_count": 14,
     "metadata": {},
     "output_type": "execute_result"
    }
   ],
   "source": [
    "articles_concat = []\n",
    "[articles_concat.extend(text) for text in processed_data]\n",
    "len(articles_concat)"
   ]
  },
  {
   "cell_type": "code",
   "execution_count": 15,
   "metadata": {
    "ExecuteTime": {
     "end_time": "2020-05-15T23:11:42.075479Z",
     "start_time": "2020-05-15T23:11:42.070842Z"
    }
   },
   "outputs": [
    {
     "data": {
      "text/plain": [
       "['note',\n",
       " 'trial',\n",
       " 'updates',\n",
       " 'summarized',\n",
       " 'reports',\n",
       " '_idaho',\n",
       " 'statesman_',\n",
       " 'local',\n",
       " 'nbc',\n",
       " 'affiliate',\n",
       " 'television',\n",
       " 'station',\n",
       " 'ktvb',\n",
       " 'channel',\n",
       " '7',\n",
       " 'randy',\n",
       " 'weaver/kevin',\n",
       " 'harris',\n",
       " 'trial',\n",
       " 'update',\n",
       " 'day',\n",
       " '4',\n",
       " 'friday',\n",
       " 'april',\n",
       " '16',\n",
       " '1993',\n",
       " 'fourth',\n",
       " 'day',\n",
       " 'trial',\n",
       " 'synopsis',\n",
       " 'defense',\n",
       " 'attorney',\n",
       " 'gerry',\n",
       " 'spence',\n",
       " 'cross-examined',\n",
       " 'agent',\n",
       " 'cooper',\n",
       " 'repeated',\n",
       " 'objections',\n",
       " 'prosecutor',\n",
       " 'ronald',\n",
       " 'howen',\n",
       " 'spence',\n",
       " 'moved',\n",
       " 'mistrial',\n",
       " 'denied',\n",
       " 'day',\n",
       " 'marked',\n",
       " 'caustic',\n",
       " 'cross-examination',\n",
       " 'deputy',\n",
       " 'marshal',\n",
       " 'larry',\n",
       " 'cooper',\n",
       " 'defense',\n",
       " 'attorney',\n",
       " 'gerry',\n",
       " 'spence',\n",
       " 'although',\n",
       " 'spence',\n",
       " 'explicitly',\n",
       " 'stated',\n",
       " 'one',\n",
       " 'angle',\n",
       " 'stategy',\n",
       " 'must',\n",
       " 'involve',\n",
       " 'destroying',\n",
       " 'credibility',\n",
       " 'agent',\n",
       " 'cooper',\n",
       " 'cooper',\n",
       " 'government',\n",
       " \"'s\",\n",
       " 'eyewitness',\n",
       " 'death',\n",
       " 'agent',\n",
       " 'degan',\n",
       " 'spence',\n",
       " 'attacked',\n",
       " 'cooper',\n",
       " \"'s\",\n",
       " 'credibility',\n",
       " 'pointing',\n",
       " 'discrepancies',\n",
       " 'cooper',\n",
       " \"'s\",\n",
       " 'statements',\n",
       " 'last',\n",
       " 'september',\n",
       " 'made',\n",
       " 'court',\n",
       " 'cooper',\n",
       " 'conceded',\n",
       " '``',\n",
       " 'things',\n",
       " 'compressed',\n",
       " 'seconds',\n",
       " \"'s\",\n",
       " 'difficult']"
      ]
     },
     "execution_count": 15,
     "metadata": {},
     "output_type": "execute_result"
    }
   ],
   "source": [
    "articles_concat[0:100]"
   ]
  },
  {
   "cell_type": "code",
   "execution_count": 16,
   "metadata": {
    "ExecuteTime": {
     "end_time": "2020-05-15T23:11:42.376604Z",
     "start_time": "2020-05-15T23:11:42.076765Z"
    },
    "scrolled": false
   },
   "outputs": [
    {
     "data": {
      "text/plain": [
       "[('--', 29501),\n",
       " ('x', 4840),\n",
       " ('``', 4071),\n",
       " (\"'s\", 3203),\n",
       " (\"n't\", 2933),\n",
       " ('1', 2529),\n",
       " ('would', 1985),\n",
       " ('0', 1975),\n",
       " ('one', 1758),\n",
       " ('2', 1664),\n",
       " ('people', 1243),\n",
       " ('use', 1146),\n",
       " ('get', 1068),\n",
       " ('like', 1036),\n",
       " ('file', 1024),\n",
       " ('3', 1005),\n",
       " ('also', 875),\n",
       " ('key', 869),\n",
       " ('4', 864),\n",
       " ('could', 853),\n",
       " ('know', 814),\n",
       " ('think', 814),\n",
       " ('time', 781),\n",
       " ('may', 729),\n",
       " ('even', 711),\n",
       " ('new', 706),\n",
       " ('first', 678),\n",
       " ('*/', 674),\n",
       " ('system', 673),\n",
       " ('5', 673),\n",
       " ('well', 670),\n",
       " ('information', 646),\n",
       " ('make', 644),\n",
       " ('right', 638),\n",
       " ('see', 636),\n",
       " ('many', 634),\n",
       " ('two', 633),\n",
       " ('/*', 611),\n",
       " ('good', 608),\n",
       " ('used', 600),\n",
       " ('7', 593),\n",
       " ('government', 588),\n",
       " ('way', 572),\n",
       " ('available', 568),\n",
       " ('window', 568),\n",
       " (\"'m\", 562),\n",
       " ('db', 553),\n",
       " ('much', 540),\n",
       " ('encryption', 537),\n",
       " ('6', 537),\n",
       " ('using', 527),\n",
       " ('say', 523),\n",
       " ('gun', 520),\n",
       " ('number', 518),\n",
       " ('program', 515),\n",
       " ('us', 510),\n",
       " ('team', 498),\n",
       " ('must', 483),\n",
       " ('law', 476),\n",
       " ('since', 449),\n",
       " ('need', 444),\n",
       " ('game', 439),\n",
       " ('chip', 437),\n",
       " ('something', 435),\n",
       " ('8', 427),\n",
       " ('want', 421),\n",
       " ('god', 419),\n",
       " ('server', 417),\n",
       " (\"'ve\", 416),\n",
       " ('public', 408),\n",
       " ('year', 401),\n",
       " ('set', 396),\n",
       " ('ca', 392),\n",
       " ('find', 391),\n",
       " ('please', 386),\n",
       " ('point', 385),\n",
       " ('without', 383),\n",
       " ('n', 383),\n",
       " ('might', 381),\n",
       " ('read', 378),\n",
       " ('said', 378),\n",
       " ('believe', 378),\n",
       " ('go', 377),\n",
       " ('take', 377),\n",
       " ('really', 376),\n",
       " ('version', 374),\n",
       " ('c', 374),\n",
       " ('anyone', 371),\n",
       " ('second', 370),\n",
       " ('list', 367),\n",
       " ('code', 367),\n",
       " ('another', 362),\n",
       " ('keys', 362),\n",
       " (\"'re\", 361),\n",
       " ('work', 360),\n",
       " ('example', 359),\n",
       " ('clipper', 358),\n",
       " ('play', 357),\n",
       " ('problem', 356),\n",
       " ('things', 353),\n",
       " ('data', 353),\n",
       " ('made', 348),\n",
       " ('widget', 345),\n",
       " ('sure', 344),\n",
       " ('however', 344),\n",
       " ('case', 343),\n",
       " ('still', 342),\n",
       " ('back', 341),\n",
       " ('entry', 341),\n",
       " ('hockey', 340),\n",
       " ('last', 339),\n",
       " ('10', 339),\n",
       " (\"'d\", 335),\n",
       " ('let', 333),\n",
       " ('better', 332),\n",
       " ('25', 331),\n",
       " ('part', 330),\n",
       " ('security', 327),\n",
       " ('output', 327),\n",
       " ('probably', 324),\n",
       " ('subject', 322),\n",
       " ('line', 321),\n",
       " ('privacy', 321),\n",
       " ('question', 320),\n",
       " ('going', 319),\n",
       " ('period', 315),\n",
       " ('state', 312),\n",
       " ('course', 311),\n",
       " ('name', 311),\n",
       " ('anonymous', 307),\n",
       " ('9', 303),\n",
       " ('years', 302),\n",
       " ('look', 301),\n",
       " ('files', 300),\n",
       " ('got', 299),\n",
       " ('true', 299),\n",
       " ('control', 298),\n",
       " ('fact', 294),\n",
       " ('long', 293),\n",
       " ('application', 291),\n",
       " ('every', 290),\n",
       " ('season', 290),\n",
       " (\"'ll\", 289),\n",
       " ('someone', 285),\n",
       " ('source', 284),\n",
       " ('possible', 283),\n",
       " ('help', 282),\n",
       " ('message', 280),\n",
       " ('55.0', 279),\n",
       " ('games', 276),\n",
       " ('thing', 276),\n",
       " ('never', 275),\n",
       " ('following', 274),\n",
       " ('send', 273),\n",
       " ('try', 271),\n",
       " ('best', 270),\n",
       " ('motif', 270),\n",
       " ('general', 269),\n",
       " ('email', 269),\n",
       " ('run', 269),\n",
       " ('rather', 268),\n",
       " ('actually', 265),\n",
       " ('several', 264),\n",
       " ('thanks', 264),\n",
       " ('means', 264),\n",
       " ('either', 263),\n",
       " ('give', 263),\n",
       " ('note', 262),\n",
       " ('keep', 262),\n",
       " ('little', 262),\n",
       " ('put', 262),\n",
       " ('different', 261),\n",
       " ('guns', 259),\n",
       " ('enough', 259),\n",
       " ('given', 256),\n",
       " ('far', 255),\n",
       " ('come', 254),\n",
       " ('group', 253),\n",
       " ('seems', 252),\n",
       " ('around', 250),\n",
       " ('person', 249),\n",
       " ('order', 249),\n",
       " ('call', 248),\n",
       " ('next', 246),\n",
       " ('support', 246),\n",
       " ('anything', 245),\n",
       " ('least', 244),\n",
       " ('e', 242),\n",
       " ('section', 240),\n",
       " ('internet', 238),\n",
       " ('power', 236),\n",
       " ('open', 235),\n",
       " ('sun', 235),\n",
       " ('etc', 234),\n",
       " ('world', 233),\n",
       " ('user', 231),\n",
       " ('mail', 231),\n",
       " ('rights', 229),\n",
       " ('great', 229),\n",
       " ('real', 229)]"
      ]
     },
     "execution_count": 16,
     "metadata": {},
     "output_type": "execute_result"
    }
   ],
   "source": [
    "articles_freqdist = FreqDist(articles_concat)\n",
    "articles_freqdist.most_common(200)"
   ]
  },
  {
   "cell_type": "markdown",
   "metadata": {},
   "source": [
    "At first glance, none of these words seem very informative -- for most of the words represented here, it would be tough to guess if a given word is used equally among all five classes, or is disproportionately represented among a single class. This makes sense, because this frequency distribution represents all the classes combined. This tells us that these words are probably the least important, as they are most likely words that are used across multiple classes, thereby providing our model with little actual signal as to what class they belong to. This tells us that we probably want to focus on words that appear heavily in articles from a given class, but rarely appear in articles from other classes. You may recall from previous lessons that this is exactly where **_TF-IDF Vectorization_** really shines!\n",
    "\n",
    "### Vectorizing with TF-IDF\n",
    "\n",
    "Although NLTK does provide functionality for vectorizing text documents with TF-IDF, we'll make use of scikit-learn's TF-IDF vectorizer, because we already have experience with it, and because it's a bit easier to use, especially when the models we'll be feeding the vectorized data into are from scikit-learn, meaning that we don't have to worry about doing any extra processing to ensure they play nicely together. \n",
    "\n",
    "Recall that in order to use scikit-learn's `TfidfVectorizer()`, we need to pass in the data as raw text documents -- the `TfidfVectorizer()` handles the count vectorization process on it's own, and then fits and transforms the data into TF-IDF format. \n",
    "\n",
    "This means that we need to:\n",
    "\n",
    "* Import `TfidfVectorizer` from `sklearn.feature_extraction.text` and instantiate `TfidfVectorizer()` \n",
    "* Call the vectorizer object's `.fit_transform()` method and pass in our `data` as input. Store the results in `tf_idf_data_train` \n",
    "* Also create a vectorized version of our testing data, which can be found in `newsgroups_test.data`. Store the results in `tf_idf_data_test`. \n",
    "\n",
    "\n",
    "**_NOTE:_** When transforming the test data, use the `.transform()` method, not the `.fit_transform()` method, as the vectorizer has already been fit to the training data. "
   ]
  },
  {
   "cell_type": "code",
   "execution_count": 17,
   "metadata": {
    "ExecuteTime": {
     "end_time": "2020-05-15T23:11:42.380116Z",
     "start_time": "2020-05-15T23:11:42.377850Z"
    }
   },
   "outputs": [],
   "source": [
    "# Import TfidfVectorizer\n",
    "from sklearn.feature_extraction.text import TfidfVectorizer"
   ]
  },
  {
   "cell_type": "code",
   "execution_count": 18,
   "metadata": {
    "ExecuteTime": {
     "end_time": "2020-05-15T23:11:42.383406Z",
     "start_time": "2020-05-15T23:11:42.381435Z"
    }
   },
   "outputs": [],
   "source": [
    "vectorizer = TfidfVectorizer()"
   ]
  },
  {
   "cell_type": "code",
   "execution_count": 19,
   "metadata": {
    "ExecuteTime": {
     "end_time": "2020-05-15T23:11:42.881180Z",
     "start_time": "2020-05-15T23:11:42.384956Z"
    }
   },
   "outputs": [],
   "source": [
    "tf_idf_data_train = vectorizer.fit_transform(data)"
   ]
  },
  {
   "cell_type": "code",
   "execution_count": 20,
   "metadata": {
    "ExecuteTime": {
     "end_time": "2020-05-15T23:11:43.123672Z",
     "start_time": "2020-05-15T23:11:42.882619Z"
    }
   },
   "outputs": [],
   "source": [
    "tf_idf_data_test = vectorizer.transform(newsgroups_test.data)"
   ]
  },
  {
   "cell_type": "markdown",
   "metadata": {},
   "source": [
    "### Modeling Our Data\n",
    "\n",
    "Great! We've now preprocessed and explored our dataset, let's take a second to see what our data looks like in vectorized form. \n",
    "\n",
    "In the cell below, get the shape of `tf_idf_data`."
   ]
  },
  {
   "cell_type": "code",
   "execution_count": 21,
   "metadata": {
    "ExecuteTime": {
     "end_time": "2020-05-15T23:11:43.128336Z",
     "start_time": "2020-05-15T23:11:43.124976Z"
    }
   },
   "outputs": [
    {
     "data": {
      "text/plain": [
       "2814"
      ]
     },
     "execution_count": 21,
     "metadata": {},
     "output_type": "execute_result"
    }
   ],
   "source": [
    "len(data)"
   ]
  },
  {
   "cell_type": "code",
   "execution_count": 22,
   "metadata": {
    "ExecuteTime": {
     "end_time": "2020-05-15T23:11:43.132723Z",
     "start_time": "2020-05-15T23:11:43.129541Z"
    }
   },
   "outputs": [
    {
     "data": {
      "text/plain": [
       "(2814, 36622)"
      ]
     },
     "execution_count": 22,
     "metadata": {},
     "output_type": "execute_result"
    }
   ],
   "source": [
    "tf_idf_data_train.shape"
   ]
  },
  {
   "cell_type": "code",
   "execution_count": 23,
   "metadata": {
    "ExecuteTime": {
     "end_time": "2020-05-15T23:11:43.137898Z",
     "start_time": "2020-05-15T23:11:43.135951Z"
    }
   },
   "outputs": [],
   "source": [
    "# Your code here"
   ]
  },
  {
   "cell_type": "markdown",
   "metadata": {},
   "source": [
    "Our vectorized data contains 2,814 articles, with 36,622 unique words in the vocabulary. However, the vast majority of these columns for any given article will be zero, since every article only contains a small subset of the total vocabulary. Recall that vectors mostly filled with zeros are referred to as **_Sparse Vectors_**. These are extremely common when working with text data. \n",
    "\n",
    "Let's check out the average number of non-zero columns in the vectors. Run the cell below to calculate this average. "
   ]
  },
  {
   "cell_type": "code",
   "execution_count": 24,
   "metadata": {
    "ExecuteTime": {
     "end_time": "2020-05-15T23:11:43.142259Z",
     "start_time": "2020-05-15T23:11:43.140341Z"
    },
    "scrolled": false
   },
   "outputs": [],
   "source": [
    "# help(tf_idf_data_train)"
   ]
  },
  {
   "cell_type": "code",
   "execution_count": 25,
   "metadata": {
    "ExecuteTime": {
     "end_time": "2020-05-15T23:11:43.147100Z",
     "start_time": "2020-05-15T23:11:43.143457Z"
    }
   },
   "outputs": [
    {
     "name": "stdout",
     "output_type": "stream",
     "text": [
      "Average Number of Non-Zero Elements in Vectorized Articles: 107.28038379530916\n",
      "Percentage of columns containing 0: 0.9970706028126451\n"
     ]
    }
   ],
   "source": [
    "non_zero_cols = tf_idf_data_train.nnz / float(tf_idf_data_train.shape[0])\n",
    "print(\"Average Number of Non-Zero Elements in Vectorized Articles: {}\".format(non_zero_cols))\n",
    "\n",
    "percent_sparse = 1 - (non_zero_cols / float(tf_idf_data_train.shape[1]))\n",
    "print('Percentage of columns containing 0: {}'.format(percent_sparse))"
   ]
  },
  {
   "cell_type": "markdown",
   "metadata": {},
   "source": [
    "As we can see from the output above, the average vectorized article contains 107 non-zero columns. This means that 99.7% of each vector is actually zeroes! This is one reason why it's best not to create your own vectorizers, and rely on professional packages such as scikit-learn and NLTK instead -- they contain many speed and memory optimizations specifically for dealing with sparse vectors. This way, we aren't wasting a giant chunk of memory on a vectorized dataset that only has valid information in 0.3% of it. \n",
    "\n",
    "Now that we've vectorized our dataset, let's create some models and fit them to our vectorized training data. \n",
    "\n",
    "In the cell below:\n",
    "\n",
    "* Instantiate `MultinomialNB()` and `RandomForestClassifier()`. For random forest, set `n_estimators` to `100`. Don't worry about tweaking any of the other parameters  \n",
    "* Fit each to our vectorized training data \n",
    "* Create predictions for our training and test sets\n",
    "* Calculate the `accuracy_score()` for both the training and test sets (you'll find our training labels stored within the variable `target`, and the test labels stored within `newsgroups_test.target`) "
   ]
  },
  {
   "cell_type": "code",
   "execution_count": 26,
   "metadata": {
    "ExecuteTime": {
     "end_time": "2020-05-15T23:11:43.150475Z",
     "start_time": "2020-05-15T23:11:43.148490Z"
    }
   },
   "outputs": [],
   "source": [
    "nb_classifier = MultinomialNB()\n",
    "rf_classifier = RandomForestClassifier()"
   ]
  },
  {
   "cell_type": "code",
   "execution_count": 27,
   "metadata": {
    "ExecuteTime": {
     "end_time": "2020-05-15T23:11:43.170176Z",
     "start_time": "2020-05-15T23:11:43.151905Z"
    }
   },
   "outputs": [],
   "source": [
    "nb_classifier.fit(tf_idf_data_train,target)\n",
    "nb_train_preds = nb_classifier.predict(tf_idf_data_train)\n",
    "nb_test_preds = nb_classifier.predict(tf_idf_data_test)"
   ]
  },
  {
   "cell_type": "code",
   "execution_count": 28,
   "metadata": {
    "ExecuteTime": {
     "end_time": "2020-05-15T23:11:46.311940Z",
     "start_time": "2020-05-15T23:11:43.172149Z"
    }
   },
   "outputs": [],
   "source": [
    "rf_classifier.fit(tf_idf_data_train,target)\n",
    "rf_train_preds = rf_classifier.predict(tf_idf_data_train)\n",
    "rf_test_preds = rf_classifier.predict(tf_idf_data_test)"
   ]
  },
  {
   "cell_type": "code",
   "execution_count": 29,
   "metadata": {
    "ExecuteTime": {
     "end_time": "2020-05-15T23:11:46.320406Z",
     "start_time": "2020-05-15T23:11:46.313120Z"
    }
   },
   "outputs": [
    {
     "name": "stdout",
     "output_type": "stream",
     "text": [
      "Multinomial Naive Bayes\n",
      "Training Accuracy: 0.9531 \t\t Testing Accuracy: 0.8126\n",
      "\n",
      "----------------------------------------------------------------------\n",
      "\n",
      "Random Forest\n",
      "Training Accuracy: 0.9851 \t\t Testing Accuracy: 0.7896\n"
     ]
    }
   ],
   "source": [
    "nb_train_score = accuracy_score(target,nb_train_preds)\n",
    "nb_test_score = accuracy_score(newsgroups_test.target,nb_test_preds)\n",
    "rf_train_score = accuracy_score(target,rf_train_preds)\n",
    "rf_test_score = accuracy_score(newsgroups_test.target,rf_test_preds)\n",
    "\n",
    "print(\"Multinomial Naive Bayes\")\n",
    "print(\"Training Accuracy: {:.4} \\t\\t Testing Accuracy: {:.4}\".format(nb_train_score, nb_test_score))\n",
    "print(\"\")\n",
    "print('-'*70)\n",
    "print(\"\")\n",
    "print('Random Forest')\n",
    "print(\"Training Accuracy: {:.4} \\t\\t Testing Accuracy: {:.4}\".format(rf_train_score, rf_test_score))"
   ]
  },
  {
   "cell_type": "markdown",
   "metadata": {},
   "source": [
    "### Interpreting Results\n",
    "\n",
    "**_Question:_** Interpret the results seen above. How well did the models do? How do they compare to random guessing? How would you describe the quality of the model fit?\n",
    "\n",
    "Write your answer below:"
   ]
  },
  {
   "cell_type": "code",
   "execution_count": 30,
   "metadata": {
    "ExecuteTime": {
     "end_time": "2020-05-15T23:11:46.323892Z",
     "start_time": "2020-05-15T23:11:46.321775Z"
    }
   },
   "outputs": [],
   "source": [
    "# Your answer here"
   ]
  },
  {
   "cell_type": "markdown",
   "metadata": {},
   "source": [
    "# Summary\n",
    "\n",
    "In this lab, we used our NLP skills to clean, preprocess, explore, and fit models to text data for classification. This wasn't easy -- great job!!"
   ]
  },
  {
   "cell_type": "markdown",
   "metadata": {},
   "source": [
    "# Finding Trump"
   ]
  },
  {
   "cell_type": "code",
   "execution_count": 31,
   "metadata": {
    "ExecuteTime": {
     "end_time": "2020-05-15T23:11:47.172620Z",
     "start_time": "2020-05-15T23:11:46.325854Z"
    }
   },
   "outputs": [],
   "source": [
    "import pandas as pd\n",
    "df = pd.read_csv('https://raw.githubusercontent.com/jirvingphd/capstone-project-using-trumps-tweets-to-predict-stock-market/master/data/trump_tweets_12012016_to_01012020.csv')\n",
    "df.to_csv('/Users/jamesirving/Downloads/finding-trump.csv',index=False)"
   ]
  },
  {
   "cell_type": "code",
   "execution_count": 32,
   "metadata": {
    "ExecuteTime": {
     "end_time": "2020-05-15T23:11:49.054184Z",
     "start_time": "2020-05-15T23:11:47.173745Z"
    }
   },
   "outputs": [
    {
     "data": {
      "text/html": [
       "<div>\n",
       "<style scoped>\n",
       "    .dataframe tbody tr th:only-of-type {\n",
       "        vertical-align: middle;\n",
       "    }\n",
       "\n",
       "    .dataframe tbody tr th {\n",
       "        vertical-align: top;\n",
       "    }\n",
       "\n",
       "    .dataframe thead th {\n",
       "        text-align: right;\n",
       "    }\n",
       "</style>\n",
       "<table border=\"1\" class=\"dataframe\">\n",
       "  <thead>\n",
       "    <tr style=\"text-align: right;\">\n",
       "      <th></th>\n",
       "      <th>source</th>\n",
       "      <th>text</th>\n",
       "      <th>retweet_count</th>\n",
       "      <th>favorite_count</th>\n",
       "      <th>is_retweet</th>\n",
       "      <th>id_str</th>\n",
       "    </tr>\n",
       "    <tr>\n",
       "      <th>created_at</th>\n",
       "      <th></th>\n",
       "      <th></th>\n",
       "      <th></th>\n",
       "      <th></th>\n",
       "      <th></th>\n",
       "      <th></th>\n",
       "    </tr>\n",
       "  </thead>\n",
       "  <tbody>\n",
       "    <tr>\n",
       "      <td>2020-01-01 03:12:07</td>\n",
       "      <td>Twitter Media Studio</td>\n",
       "      <td>https://t.co/EVAEYD1AgV</td>\n",
       "      <td>25016</td>\n",
       "      <td>108830</td>\n",
       "      <td>False</td>\n",
       "      <td>1212209862094012416</td>\n",
       "    </tr>\n",
       "    <tr>\n",
       "      <td>2020-01-01 01:30:35</td>\n",
       "      <td>Twitter for iPhone</td>\n",
       "      <td>HAPPY NEW YEAR!</td>\n",
       "      <td>85409</td>\n",
       "      <td>576045</td>\n",
       "      <td>False</td>\n",
       "      <td>1212184310389850119</td>\n",
       "    </tr>\n",
       "    <tr>\n",
       "      <td>2020-01-01 01:22:28</td>\n",
       "      <td>Twitter for iPhone</td>\n",
       "      <td>Our fantastic First Lady! https://t.co/6iswto4WDI</td>\n",
       "      <td>27567</td>\n",
       "      <td>132633</td>\n",
       "      <td>False</td>\n",
       "      <td>1212182267113680896</td>\n",
       "    </tr>\n",
       "    <tr>\n",
       "      <td>2020-01-01 01:18:47</td>\n",
       "      <td>Twitter for iPhone</td>\n",
       "      <td>RT @DanScavino: https://t.co/CJRPySkF1Z</td>\n",
       "      <td>10796</td>\n",
       "      <td>0</td>\n",
       "      <td>True</td>\n",
       "      <td>1212181341078458369</td>\n",
       "    </tr>\n",
       "    <tr>\n",
       "      <td>2020-01-01 01:17:43</td>\n",
       "      <td>Twitter for iPhone</td>\n",
       "      <td>RT @SenJohnKennedy: I think Speaker Pelosi is ...</td>\n",
       "      <td>8893</td>\n",
       "      <td>0</td>\n",
       "      <td>True</td>\n",
       "      <td>1212181071988703232</td>\n",
       "    </tr>\n",
       "  </tbody>\n",
       "</table>\n",
       "</div>"
      ],
      "text/plain": [
       "                                   source  \\\n",
       "created_at                                  \n",
       "2020-01-01 03:12:07  Twitter Media Studio   \n",
       "2020-01-01 01:30:35    Twitter for iPhone   \n",
       "2020-01-01 01:22:28    Twitter for iPhone   \n",
       "2020-01-01 01:18:47    Twitter for iPhone   \n",
       "2020-01-01 01:17:43    Twitter for iPhone   \n",
       "\n",
       "                                                                  text  \\\n",
       "created_at                                                               \n",
       "2020-01-01 03:12:07                            https://t.co/EVAEYD1AgV   \n",
       "2020-01-01 01:30:35                                    HAPPY NEW YEAR!   \n",
       "2020-01-01 01:22:28  Our fantastic First Lady! https://t.co/6iswto4WDI   \n",
       "2020-01-01 01:18:47            RT @DanScavino: https://t.co/CJRPySkF1Z   \n",
       "2020-01-01 01:17:43  RT @SenJohnKennedy: I think Speaker Pelosi is ...   \n",
       "\n",
       "                     retweet_count  favorite_count is_retweet  \\\n",
       "created_at                                                      \n",
       "2020-01-01 03:12:07          25016          108830      False   \n",
       "2020-01-01 01:30:35          85409          576045      False   \n",
       "2020-01-01 01:22:28          27567          132633      False   \n",
       "2020-01-01 01:18:47          10796               0       True   \n",
       "2020-01-01 01:17:43           8893               0       True   \n",
       "\n",
       "                                  id_str  \n",
       "created_at                                \n",
       "2020-01-01 03:12:07  1212209862094012416  \n",
       "2020-01-01 01:30:35  1212184310389850119  \n",
       "2020-01-01 01:22:28  1212182267113680896  \n",
       "2020-01-01 01:18:47  1212181341078458369  \n",
       "2020-01-01 01:17:43  1212181071988703232  "
      ]
     },
     "execution_count": 32,
     "metadata": {},
     "output_type": "execute_result"
    }
   ],
   "source": [
    "df = pd.read_csv('https://raw.githubusercontent.com/jirvingphd/capstone-project-using-trumps-tweets-to-predict-stock-market/master/data/trump_tweets_12012016_to_01012020.csv',\n",
    "                index_col='created_at',parse_dates=['created_at'])\n",
    "df.head()"
   ]
  },
  {
   "cell_type": "code",
   "execution_count": 33,
   "metadata": {
    "ExecuteTime": {
     "end_time": "2020-05-15T23:11:49.079730Z",
     "start_time": "2020-05-15T23:11:49.055700Z"
    }
   },
   "outputs": [
    {
     "data": {
      "text/html": [
       "<div>\n",
       "<style scoped>\n",
       "    .dataframe tbody tr th:only-of-type {\n",
       "        vertical-align: middle;\n",
       "    }\n",
       "\n",
       "    .dataframe tbody tr th {\n",
       "        vertical-align: top;\n",
       "    }\n",
       "\n",
       "    .dataframe thead th {\n",
       "        text-align: right;\n",
       "    }\n",
       "</style>\n",
       "<table border=\"1\" class=\"dataframe\">\n",
       "  <thead>\n",
       "    <tr style=\"text-align: right;\">\n",
       "      <th></th>\n",
       "      <th>source</th>\n",
       "      <th>text</th>\n",
       "      <th>retweet_count</th>\n",
       "      <th>favorite_count</th>\n",
       "      <th>is_retweet</th>\n",
       "      <th>id_str</th>\n",
       "    </tr>\n",
       "    <tr>\n",
       "      <th>created_at</th>\n",
       "      <th></th>\n",
       "      <th></th>\n",
       "      <th></th>\n",
       "      <th></th>\n",
       "      <th></th>\n",
       "      <th></th>\n",
       "    </tr>\n",
       "  </thead>\n",
       "  <tbody>\n",
       "    <tr>\n",
       "      <td>2017-03-25 14:41:14</td>\n",
       "      <td>Twitter for Android</td>\n",
       "      <td>Watch @JudgeJeanine on @FoxNews tonight at 9:0...</td>\n",
       "      <td>10116</td>\n",
       "      <td>51247</td>\n",
       "      <td>False</td>\n",
       "      <td>845646761704243200</td>\n",
       "    </tr>\n",
       "    <tr>\n",
       "      <td>2017-03-25 14:37:52</td>\n",
       "      <td>Twitter for Android</td>\n",
       "      <td>ObamaCare will explode and we will all get tog...</td>\n",
       "      <td>22518</td>\n",
       "      <td>104321</td>\n",
       "      <td>False</td>\n",
       "      <td>845645916732358656</td>\n",
       "    </tr>\n",
       "    <tr>\n",
       "      <td>2017-03-25 13:29:17</td>\n",
       "      <td>Twitter for iPhone</td>\n",
       "      <td>Happy #MedalOfHonorDay to our heroes! ➡️https:...</td>\n",
       "      <td>14139</td>\n",
       "      <td>68302</td>\n",
       "      <td>False</td>\n",
       "      <td>845628655493677056</td>\n",
       "    </tr>\n",
       "    <tr>\n",
       "      <td>2017-03-24 17:59:42</td>\n",
       "      <td>Twitter for iPhone</td>\n",
       "      <td>Today I was thrilled to announce a commitment ...</td>\n",
       "      <td>20212</td>\n",
       "      <td>89339</td>\n",
       "      <td>False</td>\n",
       "      <td>845334323045765121</td>\n",
       "    </tr>\n",
       "    <tr>\n",
       "      <td>2017-03-24 17:03:46</td>\n",
       "      <td>Twitter for iPhone</td>\n",
       "      <td>Today I was pleased to announce the official a...</td>\n",
       "      <td>12933</td>\n",
       "      <td>66692</td>\n",
       "      <td>False</td>\n",
       "      <td>845320243614547968</td>\n",
       "    </tr>\n",
       "    <tr>\n",
       "      <td>...</td>\n",
       "      <td>...</td>\n",
       "      <td>...</td>\n",
       "      <td>...</td>\n",
       "      <td>...</td>\n",
       "      <td>...</td>\n",
       "      <td>...</td>\n",
       "    </tr>\n",
       "    <tr>\n",
       "      <td>2016-12-03 01:41:30</td>\n",
       "      <td>Twitter for Android</td>\n",
       "      <td>Interesting how the U.S. sells Taiwan billions...</td>\n",
       "      <td>38805</td>\n",
       "      <td>122905</td>\n",
       "      <td>False</td>\n",
       "      <td>804863098138005504</td>\n",
       "    </tr>\n",
       "    <tr>\n",
       "      <td>2016-12-03 00:44:20</td>\n",
       "      <td>Twitter for Android</td>\n",
       "      <td>The President of Taiwan CALLED ME today to wis...</td>\n",
       "      <td>24700</td>\n",
       "      <td>111106</td>\n",
       "      <td>False</td>\n",
       "      <td>804848711599882240</td>\n",
       "    </tr>\n",
       "    <tr>\n",
       "      <td>2016-12-02 02:45:18</td>\n",
       "      <td>Twitter for iPhone</td>\n",
       "      <td>Thank you Ohio! Together we made history – and...</td>\n",
       "      <td>17283</td>\n",
       "      <td>72196</td>\n",
       "      <td>False</td>\n",
       "      <td>804516764562374656</td>\n",
       "    </tr>\n",
       "    <tr>\n",
       "      <td>2016-12-01 22:52:10</td>\n",
       "      <td>Twitter for iPhone</td>\n",
       "      <td>Heading to U.S. Bank Arena in Cincinnati Ohio ...</td>\n",
       "      <td>5564</td>\n",
       "      <td>31256</td>\n",
       "      <td>False</td>\n",
       "      <td>804458095569158144</td>\n",
       "    </tr>\n",
       "    <tr>\n",
       "      <td>2016-12-01 14:38:09</td>\n",
       "      <td>Twitter for Android</td>\n",
       "      <td>Getting ready to leave for the Great State of ...</td>\n",
       "      <td>9834</td>\n",
       "      <td>57249</td>\n",
       "      <td>False</td>\n",
       "      <td>804333771021570048</td>\n",
       "    </tr>\n",
       "  </tbody>\n",
       "</table>\n",
       "<p>617 rows × 6 columns</p>\n",
       "</div>"
      ],
      "text/plain": [
       "                                  source  \\\n",
       "created_at                                 \n",
       "2017-03-25 14:41:14  Twitter for Android   \n",
       "2017-03-25 14:37:52  Twitter for Android   \n",
       "2017-03-25 13:29:17   Twitter for iPhone   \n",
       "2017-03-24 17:59:42   Twitter for iPhone   \n",
       "2017-03-24 17:03:46   Twitter for iPhone   \n",
       "...                                  ...   \n",
       "2016-12-03 01:41:30  Twitter for Android   \n",
       "2016-12-03 00:44:20  Twitter for Android   \n",
       "2016-12-02 02:45:18   Twitter for iPhone   \n",
       "2016-12-01 22:52:10   Twitter for iPhone   \n",
       "2016-12-01 14:38:09  Twitter for Android   \n",
       "\n",
       "                                                                  text  \\\n",
       "created_at                                                               \n",
       "2017-03-25 14:41:14  Watch @JudgeJeanine on @FoxNews tonight at 9:0...   \n",
       "2017-03-25 14:37:52  ObamaCare will explode and we will all get tog...   \n",
       "2017-03-25 13:29:17  Happy #MedalOfHonorDay to our heroes! ➡️https:...   \n",
       "2017-03-24 17:59:42  Today I was thrilled to announce a commitment ...   \n",
       "2017-03-24 17:03:46  Today I was pleased to announce the official a...   \n",
       "...                                                                ...   \n",
       "2016-12-03 01:41:30  Interesting how the U.S. sells Taiwan billions...   \n",
       "2016-12-03 00:44:20  The President of Taiwan CALLED ME today to wis...   \n",
       "2016-12-02 02:45:18  Thank you Ohio! Together we made history – and...   \n",
       "2016-12-01 22:52:10  Heading to U.S. Bank Arena in Cincinnati Ohio ...   \n",
       "2016-12-01 14:38:09  Getting ready to leave for the Great State of ...   \n",
       "\n",
       "                     retweet_count  favorite_count is_retweet  \\\n",
       "created_at                                                      \n",
       "2017-03-25 14:41:14          10116           51247      False   \n",
       "2017-03-25 14:37:52          22518          104321      False   \n",
       "2017-03-25 13:29:17          14139           68302      False   \n",
       "2017-03-24 17:59:42          20212           89339      False   \n",
       "2017-03-24 17:03:46          12933           66692      False   \n",
       "...                            ...             ...        ...   \n",
       "2016-12-03 01:41:30          38805          122905      False   \n",
       "2016-12-03 00:44:20          24700          111106      False   \n",
       "2016-12-02 02:45:18          17283           72196      False   \n",
       "2016-12-01 22:52:10           5564           31256      False   \n",
       "2016-12-01 14:38:09           9834           57249      False   \n",
       "\n",
       "                                 id_str  \n",
       "created_at                               \n",
       "2017-03-25 14:41:14  845646761704243200  \n",
       "2017-03-25 14:37:52  845645916732358656  \n",
       "2017-03-25 13:29:17  845628655493677056  \n",
       "2017-03-24 17:59:42  845334323045765121  \n",
       "2017-03-24 17:03:46  845320243614547968  \n",
       "...                                 ...  \n",
       "2016-12-03 01:41:30  804863098138005504  \n",
       "2016-12-03 00:44:20  804848711599882240  \n",
       "2016-12-02 02:45:18  804516764562374656  \n",
       "2016-12-01 22:52:10  804458095569158144  \n",
       "2016-12-01 14:38:09  804333771021570048  \n",
       "\n",
       "[617 rows x 6 columns]"
      ]
     },
     "execution_count": 33,
     "metadata": {},
     "output_type": "execute_result"
    }
   ],
   "source": [
    "## Get time period where Trump still had his personal Android\n",
    "start_ts = df[ df['source'] == 'Twitter for Android'].index[0]\n",
    "end_ts = df[ df['source'] == 'Twitter for Android'].index[-1]\n",
    "df = df.loc[start_ts:end_ts]\n",
    "df"
   ]
  },
  {
   "cell_type": "code",
   "execution_count": 34,
   "metadata": {
    "ExecuteTime": {
     "end_time": "2020-05-15T23:11:49.086545Z",
     "start_time": "2020-05-15T23:11:49.081226Z"
    }
   },
   "outputs": [
    {
     "data": {
      "text/plain": [
       "Twitter for Android    364\n",
       "Twitter for iPhone     239\n",
       "Twitter Web Client      14\n",
       "Name: source, dtype: int64"
      ]
     },
     "execution_count": 34,
     "metadata": {},
     "output_type": "execute_result"
    }
   ],
   "source": [
    "df['source'].value_counts()"
   ]
  },
  {
   "cell_type": "code",
   "execution_count": 35,
   "metadata": {
    "ExecuteTime": {
     "end_time": "2020-05-15T23:11:49.099510Z",
     "start_time": "2020-05-15T23:11:49.087994Z"
    }
   },
   "outputs": [
    {
     "data": {
      "text/html": [
       "<div>\n",
       "<style scoped>\n",
       "    .dataframe tbody tr th:only-of-type {\n",
       "        vertical-align: middle;\n",
       "    }\n",
       "\n",
       "    .dataframe tbody tr th {\n",
       "        vertical-align: top;\n",
       "    }\n",
       "\n",
       "    .dataframe thead th {\n",
       "        text-align: right;\n",
       "    }\n",
       "</style>\n",
       "<table border=\"1\" class=\"dataframe\">\n",
       "  <thead>\n",
       "    <tr style=\"text-align: right;\">\n",
       "      <th></th>\n",
       "      <th>source</th>\n",
       "      <th>text</th>\n",
       "      <th>retweet_count</th>\n",
       "      <th>favorite_count</th>\n",
       "      <th>is_retweet</th>\n",
       "      <th>id_str</th>\n",
       "    </tr>\n",
       "    <tr>\n",
       "      <th>created_at</th>\n",
       "      <th></th>\n",
       "      <th></th>\n",
       "      <th></th>\n",
       "      <th></th>\n",
       "      <th></th>\n",
       "      <th></th>\n",
       "    </tr>\n",
       "  </thead>\n",
       "  <tbody>\n",
       "    <tr>\n",
       "      <td>2017-01-26 00:03:33</td>\n",
       "      <td>Twitter Web Client</td>\n",
       "      <td>Beginning today the United States of America g...</td>\n",
       "      <td>23095</td>\n",
       "      <td>109885</td>\n",
       "      <td>False</td>\n",
       "      <td>824407390674157568</td>\n",
       "    </tr>\n",
       "    <tr>\n",
       "      <td>2017-01-18 22:21:02</td>\n",
       "      <td>Twitter Web Client</td>\n",
       "      <td>Looking forward to a speedy recovery for Georg...</td>\n",
       "      <td>21141</td>\n",
       "      <td>135864</td>\n",
       "      <td>False</td>\n",
       "      <td>821844875268255744</td>\n",
       "    </tr>\n",
       "    <tr>\n",
       "      <td>2017-01-17 19:58:10</td>\n",
       "      <td>Twitter Web Client</td>\n",
       "      <td>RT @EricTrump: Thank you to @GolfDigest for th...</td>\n",
       "      <td>9066</td>\n",
       "      <td>0</td>\n",
       "      <td>True</td>\n",
       "      <td>821446536278274050</td>\n",
       "    </tr>\n",
       "    <tr>\n",
       "      <td>2017-01-17 19:36:21</td>\n",
       "      <td>Twitter Web Client</td>\n",
       "      <td>RT @MoskowitzEva: .@BetsyDeVos has the talent ...</td>\n",
       "      <td>6856</td>\n",
       "      <td>0</td>\n",
       "      <td>True</td>\n",
       "      <td>821441044097224704</td>\n",
       "    </tr>\n",
       "    <tr>\n",
       "      <td>2017-01-17 17:55:38</td>\n",
       "      <td>Twitter Web Client</td>\n",
       "      <td>Thank you to General Motors and Walmart for st...</td>\n",
       "      <td>21503</td>\n",
       "      <td>103996</td>\n",
       "      <td>False</td>\n",
       "      <td>821415698278875137</td>\n",
       "    </tr>\n",
       "    <tr>\n",
       "      <td>2017-01-17 17:36:45</td>\n",
       "      <td>Twitter Web Client</td>\n",
       "      <td>How Trump Won--And How The Media Missed It htt...</td>\n",
       "      <td>11434</td>\n",
       "      <td>42827</td>\n",
       "      <td>False</td>\n",
       "      <td>821410947864653825</td>\n",
       "    </tr>\n",
       "    <tr>\n",
       "      <td>2017-01-13 17:42:42</td>\n",
       "      <td>Twitter Web Client</td>\n",
       "      <td>A beautiful funeral today for a real NYC hero ...</td>\n",
       "      <td>21197</td>\n",
       "      <td>109424</td>\n",
       "      <td>False</td>\n",
       "      <td>819962894616064001</td>\n",
       "    </tr>\n",
       "    <tr>\n",
       "      <td>2017-01-06 19:30:09</td>\n",
       "      <td>Twitter Web Client</td>\n",
       "      <td>Monitoring the terrible situation in Florida. ...</td>\n",
       "      <td>22189</td>\n",
       "      <td>96091</td>\n",
       "      <td>False</td>\n",
       "      <td>817453219613917185</td>\n",
       "    </tr>\n",
       "    <tr>\n",
       "      <td>2017-01-04 18:52:09</td>\n",
       "      <td>Twitter Web Client</td>\n",
       "      <td>Jackie Evancho's album sales have skyrocketed ...</td>\n",
       "      <td>17093</td>\n",
       "      <td>79498</td>\n",
       "      <td>False</td>\n",
       "      <td>816718880731234304</td>\n",
       "    </tr>\n",
       "    <tr>\n",
       "      <td>2016-12-16 16:03:09</td>\n",
       "      <td>Twitter Web Client</td>\n",
       "      <td>Well we all did it together! I hope the \"MOVEM...</td>\n",
       "      <td>18146</td>\n",
       "      <td>70675</td>\n",
       "      <td>False</td>\n",
       "      <td>809790978332786689</td>\n",
       "    </tr>\n",
       "    <tr>\n",
       "      <td>2016-12-14 18:07:55</td>\n",
       "      <td>Twitter Web Client</td>\n",
       "      <td>.@BillGates and @JimBrownNFL32 in my Trump Tow...</td>\n",
       "      <td>14126</td>\n",
       "      <td>57955</td>\n",
       "      <td>False</td>\n",
       "      <td>809097603010981888</td>\n",
       "    </tr>\n",
       "    <tr>\n",
       "      <td>2016-12-06 19:10:27</td>\n",
       "      <td>Twitter Web Client</td>\n",
       "      <td>Masa said he would never do this had we (Trump...</td>\n",
       "      <td>13140</td>\n",
       "      <td>48486</td>\n",
       "      <td>False</td>\n",
       "      <td>806214236053667842</td>\n",
       "    </tr>\n",
       "    <tr>\n",
       "      <td>2016-12-06 19:09:49</td>\n",
       "      <td>Twitter Web Client</td>\n",
       "      <td>Masa (SoftBank) of Japan has agreed to invest ...</td>\n",
       "      <td>28709</td>\n",
       "      <td>88915</td>\n",
       "      <td>False</td>\n",
       "      <td>806214078465245185</td>\n",
       "    </tr>\n",
       "    <tr>\n",
       "      <td>2016-12-05 16:00:27</td>\n",
       "      <td>Twitter Web Client</td>\n",
       "      <td>If the press would cover me accurately &amp;amp; h...</td>\n",
       "      <td>38653</td>\n",
       "      <td>141203</td>\n",
       "      <td>False</td>\n",
       "      <td>805804034309427200</td>\n",
       "    </tr>\n",
       "  </tbody>\n",
       "</table>\n",
       "</div>"
      ],
      "text/plain": [
       "                                 source  \\\n",
       "created_at                                \n",
       "2017-01-26 00:03:33  Twitter Web Client   \n",
       "2017-01-18 22:21:02  Twitter Web Client   \n",
       "2017-01-17 19:58:10  Twitter Web Client   \n",
       "2017-01-17 19:36:21  Twitter Web Client   \n",
       "2017-01-17 17:55:38  Twitter Web Client   \n",
       "2017-01-17 17:36:45  Twitter Web Client   \n",
       "2017-01-13 17:42:42  Twitter Web Client   \n",
       "2017-01-06 19:30:09  Twitter Web Client   \n",
       "2017-01-04 18:52:09  Twitter Web Client   \n",
       "2016-12-16 16:03:09  Twitter Web Client   \n",
       "2016-12-14 18:07:55  Twitter Web Client   \n",
       "2016-12-06 19:10:27  Twitter Web Client   \n",
       "2016-12-06 19:09:49  Twitter Web Client   \n",
       "2016-12-05 16:00:27  Twitter Web Client   \n",
       "\n",
       "                                                                  text  \\\n",
       "created_at                                                               \n",
       "2017-01-26 00:03:33  Beginning today the United States of America g...   \n",
       "2017-01-18 22:21:02  Looking forward to a speedy recovery for Georg...   \n",
       "2017-01-17 19:58:10  RT @EricTrump: Thank you to @GolfDigest for th...   \n",
       "2017-01-17 19:36:21  RT @MoskowitzEva: .@BetsyDeVos has the talent ...   \n",
       "2017-01-17 17:55:38  Thank you to General Motors and Walmart for st...   \n",
       "2017-01-17 17:36:45  How Trump Won--And How The Media Missed It htt...   \n",
       "2017-01-13 17:42:42  A beautiful funeral today for a real NYC hero ...   \n",
       "2017-01-06 19:30:09  Monitoring the terrible situation in Florida. ...   \n",
       "2017-01-04 18:52:09  Jackie Evancho's album sales have skyrocketed ...   \n",
       "2016-12-16 16:03:09  Well we all did it together! I hope the \"MOVEM...   \n",
       "2016-12-14 18:07:55  .@BillGates and @JimBrownNFL32 in my Trump Tow...   \n",
       "2016-12-06 19:10:27  Masa said he would never do this had we (Trump...   \n",
       "2016-12-06 19:09:49  Masa (SoftBank) of Japan has agreed to invest ...   \n",
       "2016-12-05 16:00:27  If the press would cover me accurately &amp; h...   \n",
       "\n",
       "                     retweet_count  favorite_count is_retweet  \\\n",
       "created_at                                                      \n",
       "2017-01-26 00:03:33          23095          109885      False   \n",
       "2017-01-18 22:21:02          21141          135864      False   \n",
       "2017-01-17 19:58:10           9066               0       True   \n",
       "2017-01-17 19:36:21           6856               0       True   \n",
       "2017-01-17 17:55:38          21503          103996      False   \n",
       "2017-01-17 17:36:45          11434           42827      False   \n",
       "2017-01-13 17:42:42          21197          109424      False   \n",
       "2017-01-06 19:30:09          22189           96091      False   \n",
       "2017-01-04 18:52:09          17093           79498      False   \n",
       "2016-12-16 16:03:09          18146           70675      False   \n",
       "2016-12-14 18:07:55          14126           57955      False   \n",
       "2016-12-06 19:10:27          13140           48486      False   \n",
       "2016-12-06 19:09:49          28709           88915      False   \n",
       "2016-12-05 16:00:27          38653          141203      False   \n",
       "\n",
       "                                 id_str  \n",
       "created_at                               \n",
       "2017-01-26 00:03:33  824407390674157568  \n",
       "2017-01-18 22:21:02  821844875268255744  \n",
       "2017-01-17 19:58:10  821446536278274050  \n",
       "2017-01-17 19:36:21  821441044097224704  \n",
       "2017-01-17 17:55:38  821415698278875137  \n",
       "2017-01-17 17:36:45  821410947864653825  \n",
       "2017-01-13 17:42:42  819962894616064001  \n",
       "2017-01-06 19:30:09  817453219613917185  \n",
       "2017-01-04 18:52:09  816718880731234304  \n",
       "2016-12-16 16:03:09  809790978332786689  \n",
       "2016-12-14 18:07:55  809097603010981888  \n",
       "2016-12-06 19:10:27  806214236053667842  \n",
       "2016-12-06 19:09:49  806214078465245185  \n",
       "2016-12-05 16:00:27  805804034309427200  "
      ]
     },
     "execution_count": 35,
     "metadata": {},
     "output_type": "execute_result"
    }
   ],
   "source": [
    "df[df['source'].str.contains('Web')]"
   ]
  },
  {
   "cell_type": "code",
   "execution_count": 36,
   "metadata": {
    "ExecuteTime": {
     "end_time": "2020-05-15T23:11:49.117033Z",
     "start_time": "2020-05-15T23:11:49.100813Z"
    }
   },
   "outputs": [
    {
     "data": {
      "text/html": [
       "<div>\n",
       "<style scoped>\n",
       "    .dataframe tbody tr th:only-of-type {\n",
       "        vertical-align: middle;\n",
       "    }\n",
       "\n",
       "    .dataframe tbody tr th {\n",
       "        vertical-align: top;\n",
       "    }\n",
       "\n",
       "    .dataframe thead th {\n",
       "        text-align: right;\n",
       "    }\n",
       "</style>\n",
       "<table border=\"1\" class=\"dataframe\">\n",
       "  <thead>\n",
       "    <tr style=\"text-align: right;\">\n",
       "      <th></th>\n",
       "      <th>source</th>\n",
       "      <th>text</th>\n",
       "      <th>retweet_count</th>\n",
       "      <th>favorite_count</th>\n",
       "      <th>is_retweet</th>\n",
       "      <th>id_str</th>\n",
       "    </tr>\n",
       "    <tr>\n",
       "      <th>created_at</th>\n",
       "      <th></th>\n",
       "      <th></th>\n",
       "      <th></th>\n",
       "      <th></th>\n",
       "      <th></th>\n",
       "      <th></th>\n",
       "    </tr>\n",
       "  </thead>\n",
       "  <tbody>\n",
       "    <tr>\n",
       "      <td>2017-03-25 14:41:14</td>\n",
       "      <td>Twitter for Android</td>\n",
       "      <td>Watch @JudgeJeanine on @FoxNews tonight at 9:0...</td>\n",
       "      <td>10116</td>\n",
       "      <td>51247</td>\n",
       "      <td>False</td>\n",
       "      <td>845646761704243200</td>\n",
       "    </tr>\n",
       "    <tr>\n",
       "      <td>2017-03-25 14:37:52</td>\n",
       "      <td>Twitter for Android</td>\n",
       "      <td>ObamaCare will explode and we will all get tog...</td>\n",
       "      <td>22518</td>\n",
       "      <td>104321</td>\n",
       "      <td>False</td>\n",
       "      <td>845645916732358656</td>\n",
       "    </tr>\n",
       "    <tr>\n",
       "      <td>2017-03-25 13:29:17</td>\n",
       "      <td>Twitter for iPhone</td>\n",
       "      <td>Happy #MedalOfHonorDay to our heroes! ➡️https:...</td>\n",
       "      <td>14139</td>\n",
       "      <td>68302</td>\n",
       "      <td>False</td>\n",
       "      <td>845628655493677056</td>\n",
       "    </tr>\n",
       "    <tr>\n",
       "      <td>2017-03-24 17:59:42</td>\n",
       "      <td>Twitter for iPhone</td>\n",
       "      <td>Today I was thrilled to announce a commitment ...</td>\n",
       "      <td>20212</td>\n",
       "      <td>89339</td>\n",
       "      <td>False</td>\n",
       "      <td>845334323045765121</td>\n",
       "    </tr>\n",
       "    <tr>\n",
       "      <td>2017-03-24 17:03:46</td>\n",
       "      <td>Twitter for iPhone</td>\n",
       "      <td>Today I was pleased to announce the official a...</td>\n",
       "      <td>12933</td>\n",
       "      <td>66692</td>\n",
       "      <td>False</td>\n",
       "      <td>845320243614547968</td>\n",
       "    </tr>\n",
       "    <tr>\n",
       "      <td>...</td>\n",
       "      <td>...</td>\n",
       "      <td>...</td>\n",
       "      <td>...</td>\n",
       "      <td>...</td>\n",
       "      <td>...</td>\n",
       "      <td>...</td>\n",
       "    </tr>\n",
       "    <tr>\n",
       "      <td>2016-12-03 01:41:30</td>\n",
       "      <td>Twitter for Android</td>\n",
       "      <td>Interesting how the U.S. sells Taiwan billions...</td>\n",
       "      <td>38805</td>\n",
       "      <td>122905</td>\n",
       "      <td>False</td>\n",
       "      <td>804863098138005504</td>\n",
       "    </tr>\n",
       "    <tr>\n",
       "      <td>2016-12-03 00:44:20</td>\n",
       "      <td>Twitter for Android</td>\n",
       "      <td>The President of Taiwan CALLED ME today to wis...</td>\n",
       "      <td>24700</td>\n",
       "      <td>111106</td>\n",
       "      <td>False</td>\n",
       "      <td>804848711599882240</td>\n",
       "    </tr>\n",
       "    <tr>\n",
       "      <td>2016-12-02 02:45:18</td>\n",
       "      <td>Twitter for iPhone</td>\n",
       "      <td>Thank you Ohio! Together we made history – and...</td>\n",
       "      <td>17283</td>\n",
       "      <td>72196</td>\n",
       "      <td>False</td>\n",
       "      <td>804516764562374656</td>\n",
       "    </tr>\n",
       "    <tr>\n",
       "      <td>2016-12-01 22:52:10</td>\n",
       "      <td>Twitter for iPhone</td>\n",
       "      <td>Heading to U.S. Bank Arena in Cincinnati Ohio ...</td>\n",
       "      <td>5564</td>\n",
       "      <td>31256</td>\n",
       "      <td>False</td>\n",
       "      <td>804458095569158144</td>\n",
       "    </tr>\n",
       "    <tr>\n",
       "      <td>2016-12-01 14:38:09</td>\n",
       "      <td>Twitter for Android</td>\n",
       "      <td>Getting ready to leave for the Great State of ...</td>\n",
       "      <td>9834</td>\n",
       "      <td>57249</td>\n",
       "      <td>False</td>\n",
       "      <td>804333771021570048</td>\n",
       "    </tr>\n",
       "  </tbody>\n",
       "</table>\n",
       "<p>603 rows × 6 columns</p>\n",
       "</div>"
      ],
      "text/plain": [
       "                                  source  \\\n",
       "created_at                                 \n",
       "2017-03-25 14:41:14  Twitter for Android   \n",
       "2017-03-25 14:37:52  Twitter for Android   \n",
       "2017-03-25 13:29:17   Twitter for iPhone   \n",
       "2017-03-24 17:59:42   Twitter for iPhone   \n",
       "2017-03-24 17:03:46   Twitter for iPhone   \n",
       "...                                  ...   \n",
       "2016-12-03 01:41:30  Twitter for Android   \n",
       "2016-12-03 00:44:20  Twitter for Android   \n",
       "2016-12-02 02:45:18   Twitter for iPhone   \n",
       "2016-12-01 22:52:10   Twitter for iPhone   \n",
       "2016-12-01 14:38:09  Twitter for Android   \n",
       "\n",
       "                                                                  text  \\\n",
       "created_at                                                               \n",
       "2017-03-25 14:41:14  Watch @JudgeJeanine on @FoxNews tonight at 9:0...   \n",
       "2017-03-25 14:37:52  ObamaCare will explode and we will all get tog...   \n",
       "2017-03-25 13:29:17  Happy #MedalOfHonorDay to our heroes! ➡️https:...   \n",
       "2017-03-24 17:59:42  Today I was thrilled to announce a commitment ...   \n",
       "2017-03-24 17:03:46  Today I was pleased to announce the official a...   \n",
       "...                                                                ...   \n",
       "2016-12-03 01:41:30  Interesting how the U.S. sells Taiwan billions...   \n",
       "2016-12-03 00:44:20  The President of Taiwan CALLED ME today to wis...   \n",
       "2016-12-02 02:45:18  Thank you Ohio! Together we made history – and...   \n",
       "2016-12-01 22:52:10  Heading to U.S. Bank Arena in Cincinnati Ohio ...   \n",
       "2016-12-01 14:38:09  Getting ready to leave for the Great State of ...   \n",
       "\n",
       "                     retweet_count  favorite_count is_retweet  \\\n",
       "created_at                                                      \n",
       "2017-03-25 14:41:14          10116           51247      False   \n",
       "2017-03-25 14:37:52          22518          104321      False   \n",
       "2017-03-25 13:29:17          14139           68302      False   \n",
       "2017-03-24 17:59:42          20212           89339      False   \n",
       "2017-03-24 17:03:46          12933           66692      False   \n",
       "...                            ...             ...        ...   \n",
       "2016-12-03 01:41:30          38805          122905      False   \n",
       "2016-12-03 00:44:20          24700          111106      False   \n",
       "2016-12-02 02:45:18          17283           72196      False   \n",
       "2016-12-01 22:52:10           5564           31256      False   \n",
       "2016-12-01 14:38:09           9834           57249      False   \n",
       "\n",
       "                                 id_str  \n",
       "created_at                               \n",
       "2017-03-25 14:41:14  845646761704243200  \n",
       "2017-03-25 14:37:52  845645916732358656  \n",
       "2017-03-25 13:29:17  845628655493677056  \n",
       "2017-03-24 17:59:42  845334323045765121  \n",
       "2017-03-24 17:03:46  845320243614547968  \n",
       "...                                 ...  \n",
       "2016-12-03 01:41:30  804863098138005504  \n",
       "2016-12-03 00:44:20  804848711599882240  \n",
       "2016-12-02 02:45:18  804516764562374656  \n",
       "2016-12-01 22:52:10  804458095569158144  \n",
       "2016-12-01 14:38:09  804333771021570048  \n",
       "\n",
       "[603 rows x 6 columns]"
      ]
     },
     "execution_count": 36,
     "metadata": {},
     "output_type": "execute_result"
    }
   ],
   "source": [
    "df = df[~df['source'].str.contains('Web')]\n",
    "df"
   ]
  },
  {
   "cell_type": "code",
   "execution_count": 37,
   "metadata": {
    "ExecuteTime": {
     "end_time": "2020-05-15T23:11:49.125625Z",
     "start_time": "2020-05-15T23:11:49.118694Z"
    }
   },
   "outputs": [
    {
     "data": {
      "text/plain": [
       "Twitter for Android    0.603648\n",
       "Twitter for iPhone     0.396352\n",
       "Name: source, dtype: float64"
      ]
     },
     "execution_count": 37,
     "metadata": {},
     "output_type": "execute_result"
    }
   ],
   "source": [
    "df['source'].value_counts(normalize=True)"
   ]
  },
  {
   "cell_type": "code",
   "execution_count": 38,
   "metadata": {
    "ExecuteTime": {
     "end_time": "2020-05-15T23:11:49.130460Z",
     "start_time": "2020-05-15T23:11:49.126912Z"
    }
   },
   "outputs": [
    {
     "name": "stdout",
     "output_type": "stream",
     "text": [
      "Help on TweetTokenizer in module nltk.tokenize.casual object:\n",
      "\n",
      "class TweetTokenizer(builtins.object)\n",
      " |  Tokenizer for tweets.\n",
      " |  \n",
      " |      >>> from nltk.tokenize import TweetTokenizer\n",
      " |      >>> tknzr = TweetTokenizer()\n",
      " |      >>> s0 = \"This is a cooool #dummysmiley: :-) :-P <3 and some arrows < > -> <--\"\n",
      " |      >>> tknzr.tokenize(s0)\n",
      " |      ['This', 'is', 'a', 'cooool', '#dummysmiley', ':', ':-)', ':-P', '<3', 'and', 'some', 'arrows', '<', '>', '->', '<--']\n",
      " |  \n",
      " |  Examples using `strip_handles` and `reduce_len parameters`:\n",
      " |  \n",
      " |      >>> tknzr = TweetTokenizer(strip_handles=True, reduce_len=True)\n",
      " |      >>> s1 = '@remy: This is waaaaayyyy too much for you!!!!!!'\n",
      " |      >>> tknzr.tokenize(s1)\n",
      " |      [':', 'This', 'is', 'waaayyy', 'too', 'much', 'for', 'you', '!', '!', '!']\n",
      " |  \n",
      " |  Methods defined here:\n",
      " |  \n",
      " |  __init__(self, preserve_case=True, reduce_len=False, strip_handles=False)\n",
      " |      Initialize self.  See help(type(self)) for accurate signature.\n",
      " |  \n",
      " |  tokenize(self, text)\n",
      " |      :param text: str\n",
      " |      :rtype: list(str)\n",
      " |      :return: a tokenized list of strings; concatenating this list returns        the original string if `preserve_case=False`\n",
      " |  \n",
      " |  ----------------------------------------------------------------------\n",
      " |  Data descriptors defined here:\n",
      " |  \n",
      " |  __dict__\n",
      " |      dictionary for instance variables (if defined)\n",
      " |  \n",
      " |  __weakref__\n",
      " |      list of weak references to the object (if defined)\n",
      "\n"
     ]
    }
   ],
   "source": [
    "tokenizer = nltk.tokenize.TweetTokenizer(preserve_case=False,)\n",
    "help(tokenizer)"
   ]
  },
  {
   "cell_type": "code",
   "execution_count": 39,
   "metadata": {
    "ExecuteTime": {
     "end_time": "2020-05-15T23:11:49.134991Z",
     "start_time": "2020-05-15T23:11:49.131778Z"
    }
   },
   "outputs": [
    {
     "data": {
      "text/plain": [
       "(603, 6)"
      ]
     },
     "execution_count": 39,
     "metadata": {},
     "output_type": "execute_result"
    }
   ],
   "source": [
    "df.shape"
   ]
  },
  {
   "cell_type": "code",
   "execution_count": 40,
   "metadata": {
    "ExecuteTime": {
     "end_time": "2020-05-15T23:11:49.138432Z",
     "start_time": "2020-05-15T23:11:49.136484Z"
    }
   },
   "outputs": [],
   "source": [
    "#  df['source'].isin(['Twitter for iPhone', 'Twitter for Android']).sum() \n"
   ]
  },
  {
   "cell_type": "code",
   "execution_count": 41,
   "metadata": {
    "ExecuteTime": {
     "end_time": "2020-05-15T23:11:49.141976Z",
     "start_time": "2020-05-15T23:11:49.139897Z"
    }
   },
   "outputs": [],
   "source": [
    "# df = df.loc[ df['source'].isin(['Twitter for iPhone', 'Twitter for Android'])]\n",
    "# df.shape"
   ]
  },
  {
   "cell_type": "code",
   "execution_count": 42,
   "metadata": {
    "ExecuteTime": {
     "end_time": "2020-05-15T23:11:49.152750Z",
     "start_time": "2020-05-15T23:11:49.143470Z"
    }
   },
   "outputs": [
    {
     "name": "stderr",
     "output_type": "stream",
     "text": [
      "//anaconda3/envs/learn-env/lib/python3.6/site-packages/ipykernel_launcher.py:1: SettingWithCopyWarning: \n",
      "A value is trying to be set on a copy of a slice from a DataFrame.\n",
      "Try using .loc[row_indexer,col_indexer] = value instead\n",
      "\n",
      "See the caveats in the documentation: http://pandas.pydata.org/pandas-docs/stable/user_guide/indexing.html#returning-a-view-versus-a-copy\n",
      "  \"\"\"Entry point for launching an IPython kernel.\n"
     ]
    },
    {
     "data": {
      "text/plain": [
       "1    364\n",
       "0    239\n",
       "Name: trump_tweet, dtype: int64"
      ]
     },
     "execution_count": 42,
     "metadata": {},
     "output_type": "execute_result"
    }
   ],
   "source": [
    "df['trump_tweet'] = (df['source'] == 'Twitter for Android').astype(int)\n",
    "df['trump_tweet'].value_counts()"
   ]
  },
  {
   "cell_type": "code",
   "execution_count": 43,
   "metadata": {
    "ExecuteTime": {
     "end_time": "2020-05-15T23:11:49.159521Z",
     "start_time": "2020-05-15T23:11:49.154408Z"
    }
   },
   "outputs": [
    {
     "data": {
      "text/plain": [
       "1    364\n",
       "0    239\n",
       "Name: trump_tweet, dtype: int64"
      ]
     },
     "execution_count": 43,
     "metadata": {},
     "output_type": "execute_result"
    }
   ],
   "source": [
    "y = df['trump_tweet']\n",
    "y.value_counts()"
   ]
  },
  {
   "cell_type": "code",
   "execution_count": 44,
   "metadata": {
    "ExecuteTime": {
     "end_time": "2020-05-15T23:11:49.165471Z",
     "start_time": "2020-05-15T23:11:49.160734Z"
    }
   },
   "outputs": [
    {
     "data": {
      "text/plain": [
       "created_at\n",
       "2017-03-25 14:41:14    Watch @JudgeJeanine on @FoxNews tonight at 9:0...\n",
       "2017-03-25 14:37:52    ObamaCare will explode and we will all get tog...\n",
       "2017-03-25 13:29:17    Happy #MedalOfHonorDay to our heroes! ➡️https:...\n",
       "2017-03-24 17:59:42    Today I was thrilled to announce a commitment ...\n",
       "2017-03-24 17:03:46    Today I was pleased to announce the official a...\n",
       "Name: text, dtype: object"
      ]
     },
     "execution_count": 44,
     "metadata": {},
     "output_type": "execute_result"
    }
   ],
   "source": [
    "X = df['text']#.apply(tokenizer.tokenize)\n",
    "X.head()"
   ]
  },
  {
   "cell_type": "code",
   "execution_count": 45,
   "metadata": {
    "ExecuteTime": {
     "end_time": "2020-05-15T23:11:49.171701Z",
     "start_time": "2020-05-15T23:11:49.166948Z"
    }
   },
   "outputs": [],
   "source": [
    "from sklearn.model_selection import train_test_split\n",
    "X_train,X_test,y_train,y_test = train_test_split(X,y,stratify=y,test_size=0.3,random_state=42)"
   ]
  },
  {
   "cell_type": "code",
   "execution_count": 46,
   "metadata": {
    "ExecuteTime": {
     "end_time": "2020-05-15T23:11:49.177951Z",
     "start_time": "2020-05-15T23:11:49.172989Z"
    }
   },
   "outputs": [
    {
     "data": {
      "text/plain": [
       "1    0.604265\n",
       "0    0.395735\n",
       "Name: trump_tweet, dtype: float64"
      ]
     },
     "execution_count": 46,
     "metadata": {},
     "output_type": "execute_result"
    }
   ],
   "source": [
    "y_train.value_counts(normalize=True)"
   ]
  },
  {
   "cell_type": "code",
   "execution_count": 47,
   "metadata": {
    "ExecuteTime": {
     "end_time": "2020-05-15T23:11:49.183817Z",
     "start_time": "2020-05-15T23:11:49.179096Z"
    }
   },
   "outputs": [
    {
     "data": {
      "text/plain": [
       "1    0.60221\n",
       "0    0.39779\n",
       "Name: trump_tweet, dtype: float64"
      ]
     },
     "execution_count": 47,
     "metadata": {},
     "output_type": "execute_result"
    }
   ],
   "source": [
    "y_test.value_counts(normalize=True)"
   ]
  },
  {
   "cell_type": "code",
   "execution_count": 48,
   "metadata": {
    "ExecuteTime": {
     "end_time": "2020-05-15T23:11:49.189531Z",
     "start_time": "2020-05-15T23:11:49.185001Z"
    }
   },
   "outputs": [
    {
     "data": {
      "text/plain": [
       "created_at\n",
       "2017-03-13 20:57:02    Proud to welcome our great Cabinet this aftern...\n",
       "2017-02-07 02:33:55    The failing @nytimes was forced to apologize t...\n",
       "2017-01-19 20:21:36    Join me at 4pm over at the Lincoln Memorial wi...\n",
       "2017-01-29 13:00:32    Somebody with aptitude and conviction should b...\n",
       "2016-12-14 00:52:40    RT @DanScavino: Join #PEOTUS Trump &amp; #VPEO...\n",
       "                                             ...                        \n",
       "2016-12-30 19:46:55    Join @AmerIcan32 founded by Hall of Fame legen...\n",
       "2017-02-09 13:26:07    Sen. McCain should not be talking about the su...\n",
       "2017-01-25 22:05:59    I will be interviewed by @DavidMuir tonight at...\n",
       "2017-01-31 11:21:52    Nancy Pelosi and Fake Tears Chuck Schumer held...\n",
       "2017-01-25 12:13:46    even those registered to vote who are dead (an...\n",
       "Name: text, Length: 422, dtype: object"
      ]
     },
     "execution_count": 48,
     "metadata": {},
     "output_type": "execute_result"
    }
   ],
   "source": [
    "X_train"
   ]
  },
  {
   "cell_type": "code",
   "execution_count": 49,
   "metadata": {
    "ExecuteTime": {
     "end_time": "2020-05-15T23:11:49.267020Z",
     "start_time": "2020-05-15T23:11:49.190752Z"
    }
   },
   "outputs": [
    {
     "data": {
      "text/plain": [
       "<422x2149 sparse matrix of type '<class 'numpy.float64'>'\n",
       "\twith 4814 stored elements in Compressed Sparse Row format>"
      ]
     },
     "execution_count": 49,
     "metadata": {},
     "output_type": "execute_result"
    }
   ],
   "source": [
    "vectorizer = TfidfVectorizer(tokenizer=tokenizer.tokenize,stop_words=stopwords_list)\n",
    "X_train_tfidf = vectorizer.fit_transform(X_train)\n",
    "X_test_tfidf = vectorizer.transform(X_test)\n",
    "X_train_tfidf"
   ]
  },
  {
   "cell_type": "code",
   "execution_count": 50,
   "metadata": {
    "ExecuteTime": {
     "end_time": "2020-05-15T23:11:49.414064Z",
     "start_time": "2020-05-15T23:11:49.268561Z"
    }
   },
   "outputs": [
    {
     "data": {
      "text/plain": [
       "RandomForestClassifier(bootstrap=True, ccp_alpha=0.0, class_weight='balanced',\n",
       "                       criterion='gini', max_depth=None, max_features='auto',\n",
       "                       max_leaf_nodes=None, max_samples=None,\n",
       "                       min_impurity_decrease=0.0, min_impurity_split=None,\n",
       "                       min_samples_leaf=1, min_samples_split=2,\n",
       "                       min_weight_fraction_leaf=0.0, n_estimators=100,\n",
       "                       n_jobs=None, oob_score=False, random_state=None,\n",
       "                       verbose=0, warm_start=False)"
      ]
     },
     "execution_count": 50,
     "metadata": {},
     "output_type": "execute_result"
    }
   ],
   "source": [
    "rf = RandomForestClassifier(class_weight='balanced')\n",
    "rf.fit(X_train_tfidf,y_train)"
   ]
  },
  {
   "cell_type": "code",
   "execution_count": null,
   "metadata": {},
   "outputs": [],
   "source": []
  },
  {
   "cell_type": "code",
   "execution_count": 51,
   "metadata": {
    "ExecuteTime": {
     "end_time": "2020-05-15T23:11:49.466480Z",
     "start_time": "2020-05-15T23:11:49.415938Z"
    }
   },
   "outputs": [],
   "source": [
    "y_hat_test = rf.predict(X_test_tfidf)\n",
    "y_hat_train = rf.predict(X_train_tfidf)"
   ]
  },
  {
   "cell_type": "code",
   "execution_count": 52,
   "metadata": {
    "ExecuteTime": {
     "end_time": "2020-05-15T23:11:49.650937Z",
     "start_time": "2020-05-15T23:11:49.469534Z"
    }
   },
   "outputs": [
    {
     "name": "stderr",
     "output_type": "stream",
     "text": [
      "\n",
      "Bad key \"text.kerning_factor\" on line 4 in\n",
      "//anaconda3/envs/learn-env/lib/python3.6/site-packages/matplotlib/mpl-data/stylelib/_classic_test_patch.mplstyle.\n",
      "You probably need to get an updated matplotlibrc file from\n",
      "https://github.com/matplotlib/matplotlib/blob/v3.1.3/matplotlibrc.template\n",
      "or from the matplotlib source distribution\n"
     ]
    }
   ],
   "source": [
    "from sklearn import metrics\n",
    "import matplotlib.pyplot as plt\n",
    "# my_scorer = metrics.make_scorer(evaluate_model,)\n",
    "\n",
    "def evaluate_model(y_test,y_hat_test,X_test,clf=None,\n",
    "                  scoring=metrics.recall_score,verbose=False,\n",
    "                  scorer=False):\n",
    "\n",
    "    print(metrics.classification_report(y_test,y_hat_test))\n",
    "    metrics.plot_confusion_matrix(clf,X_test,y_test,normalize='true',\n",
    "                                 cmap='Blues')\n",
    "    plt.show()\n",
    "    if verbose:\n",
    "        print(\"MODEL PARAMETERS:\")\n",
    "        print(pd.Series(rf.get_params()))\n",
    "        \n",
    "    if scorer:\n",
    "        \n",
    "        return scoring(y_test,y_hat_test)\n",
    "    \n",
    "    "
   ]
  },
  {
   "cell_type": "code",
   "execution_count": 53,
   "metadata": {
    "ExecuteTime": {
     "end_time": "2020-05-15T23:11:49.659218Z",
     "start_time": "2020-05-15T23:11:49.653226Z"
    }
   },
   "outputs": [
    {
     "data": {
      "text/plain": [
       "bootstrap                       True\n",
       "ccp_alpha                          0\n",
       "class_weight                balanced\n",
       "criterion                       gini\n",
       "max_depth                       None\n",
       "max_features                    auto\n",
       "max_leaf_nodes                  None\n",
       "max_samples                     None\n",
       "min_impurity_decrease              0\n",
       "min_impurity_split              None\n",
       "min_samples_leaf                   1\n",
       "min_samples_split                  2\n",
       "min_weight_fraction_leaf           0\n",
       "n_estimators                     100\n",
       "n_jobs                          None\n",
       "oob_score                      False\n",
       "random_state                    None\n",
       "verbose                            0\n",
       "warm_start                     False\n",
       "dtype: object"
      ]
     },
     "execution_count": 53,
     "metadata": {},
     "output_type": "execute_result"
    }
   ],
   "source": [
    "pd.Series(rf.get_params())"
   ]
  },
  {
   "cell_type": "code",
   "execution_count": 54,
   "metadata": {
    "ExecuteTime": {
     "end_time": "2020-05-15T23:11:49.827384Z",
     "start_time": "2020-05-15T23:11:49.660806Z"
    }
   },
   "outputs": [
    {
     "name": "stdout",
     "output_type": "stream",
     "text": [
      "              precision    recall  f1-score   support\n",
      "\n",
      "           0       1.00      1.00      1.00       167\n",
      "           1       1.00      1.00      1.00       255\n",
      "\n",
      "    accuracy                           1.00       422\n",
      "   macro avg       1.00      1.00      1.00       422\n",
      "weighted avg       1.00      1.00      1.00       422\n",
      "\n"
     ]
    },
    {
     "data": {
      "image/png": "[encoded data removed]",
      "text/plain": [
       "<Figure size 432x288 with 2 Axes>"
      ]
     },
     "metadata": {
      "needs_background": "light"
     },
     "output_type": "display_data"
    }
   ],
   "source": [
    "evaluate_model(y_train,y_hat_train,X_train_tfidf,rf)"
   ]
  },
  {
   "cell_type": "code",
   "execution_count": 55,
   "metadata": {
    "ExecuteTime": {
     "end_time": "2020-05-15T23:11:49.961209Z",
     "start_time": "2020-05-15T23:11:49.828692Z"
    }
   },
   "outputs": [
    {
     "name": "stdout",
     "output_type": "stream",
     "text": [
      "              precision    recall  f1-score   support\n",
      "\n",
      "           0       0.79      0.69      0.74        72\n",
      "           1       0.81      0.88      0.85       109\n",
      "\n",
      "    accuracy                           0.81       181\n",
      "   macro avg       0.80      0.79      0.79       181\n",
      "weighted avg       0.81      0.81      0.80       181\n",
      "\n"
     ]
    },
    {
     "data": {
      "image/png": "[encoded data removed]",
      "text/plain": [
       "<Figure size 432x288 with 2 Axes>"
      ]
     },
     "metadata": {
      "needs_background": "light"
     },
     "output_type": "display_data"
    }
   ],
   "source": [
    "evaluate_model(y_test,y_hat_test,X_test_tfidf,rf)"
   ]
  },
  {
   "cell_type": "code",
   "execution_count": 56,
   "metadata": {
    "ExecuteTime": {
     "end_time": "2020-05-15T23:11:49.964256Z",
     "start_time": "2020-05-15T23:11:49.962353Z"
    }
   },
   "outputs": [],
   "source": [
    "# help(rf.estimators_[0].get_depth)"
   ]
  },
  {
   "cell_type": "code",
   "execution_count": 57,
   "metadata": {
    "ExecuteTime": {
     "end_time": "2020-05-15T23:11:49.968767Z",
     "start_time": "2020-05-15T23:11:49.965668Z"
    }
   },
   "outputs": [
    {
     "data": {
      "text/plain": [
       "89"
      ]
     },
     "execution_count": 57,
     "metadata": {},
     "output_type": "execute_result"
    }
   ],
   "source": [
    "rf.estimators_[0].get_depth()"
   ]
  },
  {
   "cell_type": "markdown",
   "metadata": {},
   "source": [
    "### Get feature importances as text"
   ]
  },
  {
   "cell_type": "code",
   "execution_count": 58,
   "metadata": {
    "ExecuteTime": {
     "end_time": "2020-05-15T23:11:49.972739Z",
     "start_time": "2020-05-15T23:11:49.969869Z"
    }
   },
   "outputs": [
    {
     "data": {
      "text/plain": [
       "(422, 2149)"
      ]
     },
     "execution_count": 58,
     "metadata": {},
     "output_type": "execute_result"
    }
   ],
   "source": [
    "X_train_tfidf.shape"
   ]
  },
  {
   "cell_type": "code",
   "execution_count": 59,
   "metadata": {
    "ExecuteTime": {
     "end_time": "2020-05-15T23:11:49.976778Z",
     "start_time": "2020-05-15T23:11:49.973964Z"
    }
   },
   "outputs": [
    {
     "data": {
      "text/plain": [
       "2149"
      ]
     },
     "execution_count": 59,
     "metadata": {},
     "output_type": "execute_result"
    }
   ],
   "source": [
    "len(vectorizer.vocabulary_)"
   ]
  },
  {
   "cell_type": "code",
   "execution_count": 60,
   "metadata": {
    "ExecuteTime": {
     "end_time": "2020-05-15T23:11:49.982301Z",
     "start_time": "2020-05-15T23:11:49.977918Z"
    }
   },
   "outputs": [
    {
     "data": {
      "text/plain": [
       "['#1in',\n",
       " '#ahca',\n",
       " '#americafirst',\n",
       " '#draintheswam',\n",
       " '#dts',\n",
       " '#facebook',\n",
       " '#fakenews',\n",
       " '#family',\n",
       " '#familytime',\n",
       " '#godblesstheusa']"
      ]
     },
     "execution_count": 60,
     "metadata": {},
     "output_type": "execute_result"
    }
   ],
   "source": [
    "vectorizer.get_feature_names()[:10]"
   ]
  },
  {
   "cell_type": "code",
   "execution_count": 61,
   "metadata": {
    "ExecuteTime": {
     "end_time": "2020-05-15T23:11:50.250412Z",
     "start_time": "2020-05-15T23:11:49.983772Z"
    }
   },
   "outputs": [
    {
     "name": "stderr",
     "output_type": "stream",
     "text": [
      "//anaconda3/envs/learn-env/lib/python3.6/site-packages/matplotlib/backends/backend_agg.py:211: RuntimeWarning: Glyph 127480 missing from current font.\n",
      "  font.set_text(s, 0.0, flags=flags)\n",
      "//anaconda3/envs/learn-env/lib/python3.6/site-packages/matplotlib/backends/backend_agg.py:211: RuntimeWarning: Glyph 127482 missing from current font.\n",
      "  font.set_text(s, 0.0, flags=flags)\n",
      "//anaconda3/envs/learn-env/lib/python3.6/site-packages/matplotlib/backends/backend_agg.py:176: RuntimeWarning: Glyph 127480 missing from current font.\n",
      "  font.load_char(ord(s), flags=flags)\n",
      "//anaconda3/envs/learn-env/lib/python3.6/site-packages/matplotlib/backends/backend_agg.py:176: RuntimeWarning: Glyph 127482 missing from current font.\n",
      "  font.load_char(ord(s), flags=flags)\n"
     ]
    },
    {
     "data": {
      "image/png": "[encoded data removed]",
      "text/plain": [
       "<Figure size 748.8x514.8 with 1 Axes>"
      ]
     },
     "metadata": {
      "needs_background": "light"
     },
     "output_type": "display_data"
    }
   ],
   "source": [
    "# vectorizer.get_feature_names()\n",
    "with plt.style.context('seaborn-talk'):\n",
    "    importance = pd.Series(rf.feature_importances_,index= vectorizer.get_feature_names())\n",
    "    importance.sort_values().tail(30).plot(kind='barh')"
   ]
  },
  {
   "cell_type": "code",
   "execution_count": 62,
   "metadata": {
    "ExecuteTime": {
     "end_time": "2020-05-15T23:11:50.256473Z",
     "start_time": "2020-05-15T23:11:50.252061Z"
    }
   },
   "outputs": [
    {
     "data": {
      "text/plain": [
       "[array(['#1in', '#ahca', '#americafirst', ..., '🇱', '🇸', '🇺'], dtype='<U32')]"
      ]
     },
     "execution_count": 62,
     "metadata": {},
     "output_type": "execute_result"
    }
   ],
   "source": [
    "vectorizer.inverse_transform(vectorizer.idf_)"
   ]
  },
  {
   "cell_type": "code",
   "execution_count": 63,
   "metadata": {
    "ExecuteTime": {
     "end_time": "2020-05-15T23:11:50.264783Z",
     "start_time": "2020-05-15T23:11:50.257675Z"
    }
   },
   "outputs": [
    {
     "name": "stdout",
     "output_type": "stream",
     "text": [
      "Help on TfidfVectorizer in module sklearn.feature_extraction.text object:\n",
      "\n",
      "class TfidfVectorizer(CountVectorizer)\n",
      " |  Convert a collection of raw documents to a matrix of TF-IDF features.\n",
      " |  \n",
      " |  Equivalent to :class:`CountVectorizer` followed by\n",
      " |  :class:`TfidfTransformer`.\n",
      " |  \n",
      " |  Read more in the :ref:`User Guide <text_feature_extraction>`.\n",
      " |  \n",
      " |  Parameters\n",
      " |  ----------\n",
      " |  input : str {'filename', 'file', 'content'}\n",
      " |      If 'filename', the sequence passed as an argument to fit is\n",
      " |      expected to be a list of filenames that need reading to fetch\n",
      " |      the raw content to analyze.\n",
      " |  \n",
      " |      If 'file', the sequence items must have a 'read' method (file-like\n",
      " |      object) that is called to fetch the bytes in memory.\n",
      " |  \n",
      " |      Otherwise the input is expected to be a sequence of items that\n",
      " |      can be of type string or byte.\n",
      " |  \n",
      " |  encoding : str, default='utf-8'\n",
      " |      If bytes or files are given to analyze, this encoding is used to\n",
      " |      decode.\n",
      " |  \n",
      " |  decode_error : {'strict', 'ignore', 'replace'} (default='strict')\n",
      " |      Instruction on what to do if a byte sequence is given to analyze that\n",
      " |      contains characters not of the given `encoding`. By default, it is\n",
      " |      'strict', meaning that a UnicodeDecodeError will be raised. Other\n",
      " |      values are 'ignore' and 'replace'.\n",
      " |  \n",
      " |  strip_accents : {'ascii', 'unicode', None} (default=None)\n",
      " |      Remove accents and perform other character normalization\n",
      " |      during the preprocessing step.\n",
      " |      'ascii' is a fast method that only works on characters that have\n",
      " |      an direct ASCII mapping.\n",
      " |      'unicode' is a slightly slower method that works on any characters.\n",
      " |      None (default) does nothing.\n",
      " |  \n",
      " |      Both 'ascii' and 'unicode' use NFKD normalization from\n",
      " |      :func:`unicodedata.normalize`.\n",
      " |  \n",
      " |  lowercase : bool (default=True)\n",
      " |      Convert all characters to lowercase before tokenizing.\n",
      " |  \n",
      " |  preprocessor : callable or None (default=None)\n",
      " |      Override the preprocessing (string transformation) stage while\n",
      " |      preserving the tokenizing and n-grams generation steps.\n",
      " |      Only applies if ``analyzer is not callable``.\n",
      " |  \n",
      " |  tokenizer : callable or None (default=None)\n",
      " |      Override the string tokenization step while preserving the\n",
      " |      preprocessing and n-grams generation steps.\n",
      " |      Only applies if ``analyzer == 'word'``.\n",
      " |  \n",
      " |  analyzer : str, {'word', 'char', 'char_wb'} or callable\n",
      " |      Whether the feature should be made of word or character n-grams.\n",
      " |      Option 'char_wb' creates character n-grams only from text inside\n",
      " |      word boundaries; n-grams at the edges of words are padded with space.\n",
      " |  \n",
      " |      If a callable is passed it is used to extract the sequence of features\n",
      " |      out of the raw, unprocessed input.\n",
      " |  \n",
      " |      .. versionchanged:: 0.21\n",
      " |  \n",
      " |      Since v0.21, if ``input`` is ``filename`` or ``file``, the data is\n",
      " |      first read from the file and then passed to the given callable\n",
      " |      analyzer.\n",
      " |  \n",
      " |  stop_words : str {'english'}, list, or None (default=None)\n",
      " |      If a string, it is passed to _check_stop_list and the appropriate stop\n",
      " |      list is returned. 'english' is currently the only supported string\n",
      " |      value.\n",
      " |      There are several known issues with 'english' and you should\n",
      " |      consider an alternative (see :ref:`stop_words`).\n",
      " |  \n",
      " |      If a list, that list is assumed to contain stop words, all of which\n",
      " |      will be removed from the resulting tokens.\n",
      " |      Only applies if ``analyzer == 'word'``.\n",
      " |  \n",
      " |      If None, no stop words will be used. max_df can be set to a value\n",
      " |      in the range [0.7, 1.0) to automatically detect and filter stop\n",
      " |      words based on intra corpus document frequency of terms.\n",
      " |  \n",
      " |  token_pattern : str\n",
      " |      Regular expression denoting what constitutes a \"token\", only used\n",
      " |      if ``analyzer == 'word'``. The default regexp selects tokens of 2\n",
      " |      or more alphanumeric characters (punctuation is completely ignored\n",
      " |      and always treated as a token separator).\n",
      " |  \n",
      " |  ngram_range : tuple (min_n, max_n), default=(1, 1)\n",
      " |      The lower and upper boundary of the range of n-values for different\n",
      " |      n-grams to be extracted. All values of n such that min_n <= n <= max_n\n",
      " |      will be used. For example an ``ngram_range`` of ``(1, 1)`` means only\n",
      " |      unigrams, ``(1, 2)`` means unigrams and bigrams, and ``(2, 2)`` means\n",
      " |      only bigrams.\n",
      " |      Only applies if ``analyzer is not callable``.\n",
      " |  \n",
      " |  max_df : float in range [0.0, 1.0] or int (default=1.0)\n",
      " |      When building the vocabulary ignore terms that have a document\n",
      " |      frequency strictly higher than the given threshold (corpus-specific\n",
      " |      stop words).\n",
      " |      If float, the parameter represents a proportion of documents, integer\n",
      " |      absolute counts.\n",
      " |      This parameter is ignored if vocabulary is not None.\n",
      " |  \n",
      " |  min_df : float in range [0.0, 1.0] or int (default=1)\n",
      " |      When building the vocabulary ignore terms that have a document\n",
      " |      frequency strictly lower than the given threshold. This value is also\n",
      " |      called cut-off in the literature.\n",
      " |      If float, the parameter represents a proportion of documents, integer\n",
      " |      absolute counts.\n",
      " |      This parameter is ignored if vocabulary is not None.\n",
      " |  \n",
      " |  max_features : int or None (default=None)\n",
      " |      If not None, build a vocabulary that only consider the top\n",
      " |      max_features ordered by term frequency across the corpus.\n",
      " |  \n",
      " |      This parameter is ignored if vocabulary is not None.\n",
      " |  \n",
      " |  vocabulary : Mapping or iterable, optional (default=None)\n",
      " |      Either a Mapping (e.g., a dict) where keys are terms and values are\n",
      " |      indices in the feature matrix, or an iterable over terms. If not\n",
      " |      given, a vocabulary is determined from the input documents.\n",
      " |  \n",
      " |  binary : bool (default=False)\n",
      " |      If True, all non-zero term counts are set to 1. This does not mean\n",
      " |      outputs will have only 0/1 values, only that the tf term in tf-idf\n",
      " |      is binary. (Set idf and normalization to False to get 0/1 outputs).\n",
      " |  \n",
      " |  dtype : type, optional (default=float64)\n",
      " |      Type of the matrix returned by fit_transform() or transform().\n",
      " |  \n",
      " |  norm : 'l1', 'l2' or None, optional (default='l2')\n",
      " |      Each output row will have unit norm, either:\n",
      " |      * 'l2': Sum of squares of vector elements is 1. The cosine\n",
      " |      similarity between two vectors is their dot product when l2 norm has\n",
      " |      been applied.\n",
      " |      * 'l1': Sum of absolute values of vector elements is 1.\n",
      " |      See :func:`preprocessing.normalize`.\n",
      " |  \n",
      " |  use_idf : bool (default=True)\n",
      " |      Enable inverse-document-frequency reweighting.\n",
      " |  \n",
      " |  smooth_idf : bool (default=True)\n",
      " |      Smooth idf weights by adding one to document frequencies, as if an\n",
      " |      extra document was seen containing every term in the collection\n",
      " |      exactly once. Prevents zero divisions.\n",
      " |  \n",
      " |  sublinear_tf : bool (default=False)\n",
      " |      Apply sublinear tf scaling, i.e. replace tf with 1 + log(tf).\n",
      " |  \n",
      " |  Attributes\n",
      " |  ----------\n",
      " |  vocabulary_ : dict\n",
      " |      A mapping of terms to feature indices.\n",
      " |  \n",
      " |  fixed_vocabulary_: bool\n",
      " |      True if a fixed vocabulary of term to indices mapping\n",
      " |      is provided by the user\n",
      " |  \n",
      " |  idf_ : array, shape (n_features)\n",
      " |      The inverse document frequency (IDF) vector; only defined\n",
      " |      if ``use_idf`` is True.\n",
      " |  \n",
      " |  stop_words_ : set\n",
      " |      Terms that were ignored because they either:\n",
      " |  \n",
      " |        - occurred in too many documents (`max_df`)\n",
      " |        - occurred in too few documents (`min_df`)\n",
      " |        - were cut off by feature selection (`max_features`).\n",
      " |  \n",
      " |      This is only available if no vocabulary was given.\n",
      " |  \n",
      " |  See Also\n",
      " |  --------\n",
      " |  CountVectorizer : Transforms text into a sparse matrix of n-gram counts.\n",
      " |  \n",
      " |  TfidfTransformer : Performs the TF-IDF transformation from a provided\n",
      " |      matrix of counts.\n",
      " |  \n",
      " |  Notes\n",
      " |  -----\n",
      " |  The ``stop_words_`` attribute can get large and increase the model size\n",
      " |  when pickling. This attribute is provided only for introspection and can\n",
      " |  be safely removed using delattr or set to None before pickling.\n",
      " |  \n",
      " |  Examples\n",
      " |  --------\n",
      " |  >>> from sklearn.feature_extraction.text import TfidfVectorizer\n",
      " |  >>> corpus = [\n",
      " |  ...     'This is the first document.',\n",
      " |  ...     'This document is the second document.',\n",
      " |  ...     'And this is the third one.',\n",
      " |  ...     'Is this the first document?',\n",
      " |  ... ]\n",
      " |  >>> vectorizer = TfidfVectorizer()\n",
      " |  >>> X = vectorizer.fit_transform(corpus)\n",
      " |  >>> print(vectorizer.get_feature_names())\n",
      " |  ['and', 'document', 'first', 'is', 'one', 'second', 'the', 'third', 'this']\n",
      " |  >>> print(X.shape)\n",
      " |  (4, 9)\n",
      " |  \n",
      " |  Method resolution order:\n",
      " |      TfidfVectorizer\n",
      " |      CountVectorizer\n",
      " |      _VectorizerMixin\n",
      " |      sklearn.base.BaseEstimator\n",
      " |      builtins.object\n",
      " |  \n",
      " |  Methods defined here:\n",
      " |  \n",
      " |  __init__(self, input='content', encoding='utf-8', decode_error='strict', strip_accents=None, lowercase=True, preprocessor=None, tokenizer=None, analyzer='word', stop_words=None, token_pattern='(?u)\\\\b\\\\w\\\\w+\\\\b', ngram_range=(1, 1), max_df=1.0, min_df=1, max_features=None, vocabulary=None, binary=False, dtype=<class 'numpy.float64'>, norm='l2', use_idf=True, smooth_idf=True, sublinear_tf=False)\n",
      " |      Initialize self.  See help(type(self)) for accurate signature.\n",
      " |  \n",
      " |  fit(self, raw_documents, y=None)\n",
      " |      Learn vocabulary and idf from training set.\n",
      " |      \n",
      " |      Parameters\n",
      " |      ----------\n",
      " |      raw_documents : iterable\n",
      " |          An iterable which yields either str, unicode or file objects.\n",
      " |      y : None\n",
      " |          This parameter is not needed to compute tfidf.\n",
      " |      \n",
      " |      Returns\n",
      " |      -------\n",
      " |      self : object\n",
      " |          Fitted vectorizer.\n",
      " |  \n",
      " |  fit_transform(self, raw_documents, y=None)\n",
      " |      Learn vocabulary and idf, return term-document matrix.\n",
      " |      \n",
      " |      This is equivalent to fit followed by transform, but more efficiently\n",
      " |      implemented.\n",
      " |      \n",
      " |      Parameters\n",
      " |      ----------\n",
      " |      raw_documents : iterable\n",
      " |          An iterable which yields either str, unicode or file objects.\n",
      " |      y : None\n",
      " |          This parameter is ignored.\n",
      " |      \n",
      " |      Returns\n",
      " |      -------\n",
      " |      X : sparse matrix, [n_samples, n_features]\n",
      " |          Tf-idf-weighted document-term matrix.\n",
      " |  \n",
      " |  transform(self, raw_documents, copy='deprecated')\n",
      " |      Transform documents to document-term matrix.\n",
      " |      \n",
      " |      Uses the vocabulary and document frequencies (df) learned by fit (or\n",
      " |      fit_transform).\n",
      " |      \n",
      " |      Parameters\n",
      " |      ----------\n",
      " |      raw_documents : iterable\n",
      " |          An iterable which yields either str, unicode or file objects.\n",
      " |      \n",
      " |      copy : bool, default True\n",
      " |          Whether to copy X and operate on the copy or perform in-place\n",
      " |          operations.\n",
      " |      \n",
      " |          .. deprecated:: 0.22\n",
      " |             The `copy` parameter is unused and was deprecated in version\n",
      " |             0.22 and will be removed in 0.24. This parameter will be\n",
      " |             ignored.\n",
      " |      \n",
      " |      Returns\n",
      " |      -------\n",
      " |      X : sparse matrix, [n_samples, n_features]\n",
      " |          Tf-idf-weighted document-term matrix.\n",
      " |  \n",
      " |  ----------------------------------------------------------------------\n",
      " |  Data descriptors defined here:\n",
      " |  \n",
      " |  idf_\n",
      " |  \n",
      " |  norm\n",
      " |  \n",
      " |  smooth_idf\n",
      " |  \n",
      " |  sublinear_tf\n",
      " |  \n",
      " |  use_idf\n",
      " |  \n",
      " |  ----------------------------------------------------------------------\n",
      " |  Methods inherited from CountVectorizer:\n",
      " |  \n",
      " |  get_feature_names(self)\n",
      " |      Array mapping from feature integer indices to feature name.\n",
      " |      \n",
      " |      Returns\n",
      " |      -------\n",
      " |      feature_names : list\n",
      " |          A list of feature names.\n",
      " |  \n",
      " |  inverse_transform(self, X)\n",
      " |      Return terms per document with nonzero entries in X.\n",
      " |      \n",
      " |      Parameters\n",
      " |      ----------\n",
      " |      X : {array-like, sparse matrix} of shape (n_samples, n_features)\n",
      " |          Document-term matrix.\n",
      " |      \n",
      " |      Returns\n",
      " |      -------\n",
      " |      X_inv : list of arrays, len = n_samples\n",
      " |          List of arrays of terms.\n",
      " |  \n",
      " |  ----------------------------------------------------------------------\n",
      " |  Methods inherited from _VectorizerMixin:\n",
      " |  \n",
      " |  build_analyzer(self)\n",
      " |      Return a callable that handles preprocessing, tokenization\n",
      " |      and n-grams generation.\n",
      " |      \n",
      " |      Returns\n",
      " |      -------\n",
      " |      analyzer: callable\n",
      " |          A function to handle preprocessing, tokenization\n",
      " |          and n-grams generation.\n",
      " |  \n",
      " |  build_preprocessor(self)\n",
      " |      Return a function to preprocess the text before tokenization.\n",
      " |      \n",
      " |      Returns\n",
      " |      -------\n",
      " |      preprocessor: callable\n",
      " |            A function to preprocess the text before tokenization.\n",
      " |  \n",
      " |  build_tokenizer(self)\n",
      " |      Return a function that splits a string into a sequence of tokens.\n",
      " |      \n",
      " |      Returns\n",
      " |      -------\n",
      " |      tokenizer: callable\n",
      " |            A function to split a string into a sequence of tokens.\n",
      " |  \n",
      " |  decode(self, doc)\n",
      " |      Decode the input into a string of unicode symbols.\n",
      " |      \n",
      " |      The decoding strategy depends on the vectorizer parameters.\n",
      " |      \n",
      " |      Parameters\n",
      " |      ----------\n",
      " |      doc : str\n",
      " |          The string to decode.\n",
      " |      \n",
      " |      Returns\n",
      " |      -------\n",
      " |      doc: str\n",
      " |          A string of unicode symbols.\n",
      " |  \n",
      " |  get_stop_words(self)\n",
      " |      Build or fetch the effective stop words list.\n",
      " |      \n",
      " |      Returns\n",
      " |      -------\n",
      " |      stop_words: list or None\n",
      " |              A list of stop words.\n",
      " |  \n",
      " |  ----------------------------------------------------------------------\n",
      " |  Data descriptors inherited from _VectorizerMixin:\n",
      " |  \n",
      " |  __dict__\n",
      " |      dictionary for instance variables (if defined)\n",
      " |  \n",
      " |  __weakref__\n",
      " |      list of weak references to the object (if defined)\n",
      " |  \n",
      " |  ----------------------------------------------------------------------\n",
      " |  Methods inherited from sklearn.base.BaseEstimator:\n",
      " |  \n",
      " |  __getstate__(self)\n",
      " |  \n",
      " |  __repr__(self, N_CHAR_MAX=700)\n",
      " |      Return repr(self).\n",
      " |  \n",
      " |  __setstate__(self, state)\n",
      " |  \n",
      " |  get_params(self, deep=True)\n",
      " |      Get parameters for this estimator.\n",
      " |      \n",
      " |      Parameters\n",
      " |      ----------\n",
      " |      deep : bool, default=True\n",
      " |          If True, will return the parameters for this estimator and\n",
      " |          contained subobjects that are estimators.\n",
      " |      \n",
      " |      Returns\n",
      " |      -------\n",
      " |      params : mapping of string to any\n",
      " |          Parameter names mapped to their values.\n",
      " |  \n",
      " |  set_params(self, **params)\n",
      " |      Set the parameters of this estimator.\n",
      " |      \n",
      " |      The method works on simple estimators as well as on nested objects\n",
      " |      (such as pipelines). The latter have parameters of the form\n",
      " |      ``<component>__<parameter>`` so that it's possible to update each\n",
      " |      component of a nested object.\n",
      " |      \n",
      " |      Parameters\n",
      " |      ----------\n",
      " |      **params : dict\n",
      " |          Estimator parameters.\n",
      " |      \n",
      " |      Returns\n",
      " |      -------\n",
      " |      self : object\n",
      " |          Estimator instance.\n",
      "\n"
     ]
    }
   ],
   "source": [
    "help(vectorizer)"
   ]
  },
  {
   "cell_type": "markdown",
   "metadata": {},
   "source": [
    "## GridSearch"
   ]
  },
  {
   "cell_type": "code",
   "execution_count": 64,
   "metadata": {
    "ExecuteTime": {
     "end_time": "2020-05-15T23:11:56.993665Z",
     "start_time": "2020-05-15T23:11:50.266428Z"
    }
   },
   "outputs": [
    {
     "data": {
      "text/plain": [
       "{'class_weight': None,\n",
       " 'criterion': 'gini',\n",
       " 'max_depth': 5,\n",
       " 'min_samples_leaf': 1}"
      ]
     },
     "execution_count": 64,
     "metadata": {},
     "output_type": "execute_result"
    }
   ],
   "source": [
    "from sklearn.model_selection import GridSearchCV\n",
    "params  = {'criterion':['gini','entropy'],\n",
    "           'max_depth':[5,10,50,100,None],\n",
    "          'class_weight':['balanced',None],\n",
    "          'min_samples_leaf':[1,2]}\n",
    "rf_clf = RandomForestClassifier()\n",
    "grid = GridSearchCV(rf_clf,params, scoring='recall',n_jobs=-1)\n",
    "grid.fit(X_train_tfidf,y_train)\n",
    "grid.best_params_"
   ]
  },
  {
   "cell_type": "code",
   "execution_count": 65,
   "metadata": {
    "ExecuteTime": {
     "end_time": "2020-05-15T23:11:56.998691Z",
     "start_time": "2020-05-15T23:11:56.995153Z"
    }
   },
   "outputs": [
    {
     "data": {
      "text/plain": [
       "1.0"
      ]
     },
     "execution_count": 65,
     "metadata": {},
     "output_type": "execute_result"
    }
   ],
   "source": [
    "grid.best_score_"
   ]
  },
  {
   "cell_type": "code",
   "execution_count": 66,
   "metadata": {
    "ExecuteTime": {
     "end_time": "2020-05-15T23:11:57.087129Z",
     "start_time": "2020-05-15T23:11:56.999867Z"
    }
   },
   "outputs": [
    {
     "data": {
      "text/plain": [
       "RandomForestClassifier(bootstrap=True, ccp_alpha=0.0, class_weight=None,\n",
       "                       criterion='gini', max_depth=5, max_features='auto',\n",
       "                       max_leaf_nodes=None, max_samples=None,\n",
       "                       min_impurity_decrease=0.0, min_impurity_split=None,\n",
       "                       min_samples_leaf=1, min_samples_split=2,\n",
       "                       min_weight_fraction_leaf=0.0, n_estimators=100,\n",
       "                       n_jobs=None, oob_score=False, random_state=None,\n",
       "                       verbose=0, warm_start=False)"
      ]
     },
     "execution_count": 66,
     "metadata": {},
     "output_type": "execute_result"
    }
   ],
   "source": [
    "best_rf = grid.best_estimator_\n",
    "best_rf.fit(X_train_tfidf, y_train)"
   ]
  },
  {
   "cell_type": "code",
   "execution_count": 67,
   "metadata": {
    "ExecuteTime": {
     "end_time": "2020-05-15T23:11:57.099487Z",
     "start_time": "2020-05-15T23:11:57.088386Z"
    }
   },
   "outputs": [],
   "source": [
    "y_hat_test = best_rf.predict(X_test_tfidf)"
   ]
  },
  {
   "cell_type": "code",
   "execution_count": 68,
   "metadata": {
    "ExecuteTime": {
     "end_time": "2020-05-15T23:11:57.241554Z",
     "start_time": "2020-05-15T23:11:57.104311Z"
    }
   },
   "outputs": [
    {
     "name": "stdout",
     "output_type": "stream",
     "text": [
      "              precision    recall  f1-score   support\n",
      "\n",
      "           0       1.00      0.25      0.40        72\n",
      "           1       0.67      1.00      0.80       109\n",
      "\n",
      "    accuracy                           0.70       181\n",
      "   macro avg       0.83      0.62      0.60       181\n",
      "weighted avg       0.80      0.70      0.64       181\n",
      "\n"
     ]
    },
    {
     "data": {
      "image/png": "[encoded data removed]",
      "text/plain": [
       "<Figure size 432x288 with 2 Axes>"
      ]
     },
     "metadata": {
      "needs_background": "light"
     },
     "output_type": "display_data"
    }
   ],
   "source": [
    "evaluate_model(y_test,y_hat_test,X_test_tfidf,best_rf)"
   ]
  },
  {
   "cell_type": "markdown",
   "metadata": {},
   "source": [
    "## other clfs"
   ]
  },
  {
   "cell_type": "code",
   "execution_count": 69,
   "metadata": {
    "ExecuteTime": {
     "end_time": "2020-05-15T23:11:57.364277Z",
     "start_time": "2020-05-15T23:11:57.242909Z"
    }
   },
   "outputs": [
    {
     "name": "stdout",
     "output_type": "stream",
     "text": [
      "              precision    recall  f1-score   support\n",
      "\n",
      "           0       0.96      0.62      0.76        72\n",
      "           1       0.80      0.98      0.88       109\n",
      "\n",
      "    accuracy                           0.84       181\n",
      "   macro avg       0.88      0.80      0.82       181\n",
      "weighted avg       0.86      0.84      0.83       181\n",
      "\n"
     ]
    },
    {
     "data": {
      "image/png": "[encoded data removed]",
      "text/plain": [
       "<Figure size 432x288 with 2 Axes>"
      ]
     },
     "metadata": {
      "needs_background": "light"
     },
     "output_type": "display_data"
    }
   ],
   "source": [
    "nb_classifier = MultinomialNB()\n",
    "nb_classifier.fit(X_train_tfidf,y_train)\n",
    "y_hat_test = nb_classifier.predict(X_test_tfidf)\n",
    "evaluate_model(y_test,y_hat_test,X_test_tfidf,nb_classifier)"
   ]
  },
  {
   "cell_type": "markdown",
   "metadata": {},
   "source": [
    "# 05/15/20: TSNE\n",
    "https://github.com/learn-co-students/dsc-word-vectorization-lab-online-ds-pt-100719/tree/solution"
   ]
  },
  {
   "cell_type": "code",
   "execution_count": 71,
   "metadata": {
    "ExecuteTime": {
     "end_time": "2020-05-15T23:15:39.346246Z",
     "start_time": "2020-05-15T23:15:39.342031Z"
    }
   },
   "outputs": [
    {
     "data": {
      "text/plain": [
       "<422x2149 sparse matrix of type '<class 'numpy.float64'>'\n",
       "\twith 4814 stored elements in Compressed Sparse Row format>"
      ]
     },
     "execution_count": 71,
     "metadata": {},
     "output_type": "execute_result"
    }
   ],
   "source": [
    "from mpl_toolkits.mplot3d import Axes3D\n",
    "from sklearn.manifold import TSNE\n",
    "X_train_tfidf"
   ]
  },
  {
   "cell_type": "code",
   "execution_count": 106,
   "metadata": {
    "ExecuteTime": {
     "end_time": "2020-05-15T23:25:01.318449Z",
     "start_time": "2020-05-15T23:24:58.717873Z"
    }
   },
   "outputs": [],
   "source": [
    "t_sne_object_2d = TSNE(n_components=2)\n",
    "transformed_data_2d = t_sne_object_2d.fit_transform(X_train_tfidf)#tf_idf_vals_list)\n",
    "\n",
    "t_sne_object_3d = TSNE(n_components=3)\n",
    "transformed_data_3d = t_sne_object_3d.fit_transform(X_train_tfidf)"
   ]
  },
  {
   "cell_type": "code",
   "execution_count": 107,
   "metadata": {
    "ExecuteTime": {
     "end_time": "2020-05-15T23:25:01.323966Z",
     "start_time": "2020-05-15T23:25:01.319911Z"
    }
   },
   "outputs": [
    {
     "data": {
      "text/plain": [
       "(422, 3)"
      ]
     },
     "execution_count": 107,
     "metadata": {},
     "output_type": "execute_result"
    }
   ],
   "source": [
    "transformed_data_3d.shape"
   ]
  },
  {
   "cell_type": "code",
   "execution_count": 108,
   "metadata": {
    "ExecuteTime": {
     "end_time": "2020-05-15T23:25:01.329986Z",
     "start_time": "2020-05-15T23:25:01.325912Z"
    }
   },
   "outputs": [
    {
     "data": {
      "text/plain": [
       "(3,)"
      ]
     },
     "execution_count": 108,
     "metadata": {},
     "output_type": "execute_result"
    }
   ],
   "source": [
    "transformed_data_3d[0].shape"
   ]
  },
  {
   "cell_type": "code",
   "execution_count": 109,
   "metadata": {
    "ExecuteTime": {
     "end_time": "2020-05-15T23:25:01.336778Z",
     "start_time": "2020-05-15T23:25:01.331603Z"
    }
   },
   "outputs": [
    {
     "data": {
      "text/plain": [
       "created_at\n",
       "2017-03-13 20:57:02    0\n",
       "2017-02-07 02:33:55    1\n",
       "2017-01-19 20:21:36    0\n",
       "2017-01-29 13:00:32    1\n",
       "2016-12-14 00:52:40    0\n",
       "2017-03-16 20:09:38    0\n",
       "2017-03-05 11:32:22    1\n",
       "2016-12-20 13:03:59    1\n",
       "2017-03-25 13:29:17    0\n",
       "2017-03-03 20:48:21    0\n",
       "Name: trump_tweet, dtype: int64"
      ]
     },
     "execution_count": 109,
     "metadata": {},
     "output_type": "execute_result"
    }
   ],
   "source": [
    "y_train[:10]"
   ]
  },
  {
   "cell_type": "code",
   "execution_count": 111,
   "metadata": {
    "ExecuteTime": {
     "end_time": "2020-05-15T23:25:14.807414Z",
     "start_time": "2020-05-15T23:25:14.803347Z"
    }
   },
   "outputs": [
    {
     "data": {
      "text/plain": [
       "422"
      ]
     },
     "execution_count": 111,
     "metadata": {},
     "output_type": "execute_result"
    }
   ],
   "source": [
    "colors = np.where(y_train==1,'orange','black')\n",
    "len(colors)"
   ]
  },
  {
   "cell_type": "code",
   "execution_count": 113,
   "metadata": {
    "ExecuteTime": {
     "end_time": "2020-05-15T23:25:30.480379Z",
     "start_time": "2020-05-15T23:25:30.476973Z"
    }
   },
   "outputs": [
    {
     "data": {
      "text/plain": [
       "(422, 3)"
      ]
     },
     "execution_count": 113,
     "metadata": {},
     "output_type": "execute_result"
    }
   ],
   "source": [
    "transformed_data_3d.shape"
   ]
  },
  {
   "cell_type": "code",
   "execution_count": 125,
   "metadata": {
    "ExecuteTime": {
     "end_time": "2020-05-15T23:27:47.261980Z",
     "start_time": "2020-05-15T23:27:47.088286Z"
    }
   },
   "outputs": [
    {
     "name": "stderr",
     "output_type": "stream",
     "text": [
      "No handles with labels found to put in legend.\n"
     ]
    },
    {
     "data": {
      "text/plain": [
       "<matplotlib.legend.Legend at 0x1a23703cc0>"
      ]
     },
     "execution_count": 125,
     "metadata": {},
     "output_type": "execute_result"
    },
    {
     "data": {
      "image/png": "[encoded data removed]",
      "text/plain": [
       "<Figure size 720x720 with 1 Axes>"
      ]
     },
     "metadata": {
      "needs_background": "light"
     },
     "output_type": "display_data"
    }
   ],
   "source": [
    "data3D = transformed_data_3d[:10]\n",
    "color = colors[:10]\n",
    "x_ = data3D[:,0]\n",
    "y_ = data3D[:,1]\n",
    "z_ = data3D[:,2]\n",
    "\n",
    "ax= plt.subplot(projection='3d')\n",
    "ax.get_figure().set_size_inches((10,10))\n",
    "ax.scatter(x_,y_,z_,c=color)\n",
    "ax.legend()"
   ]
  },
  {
   "cell_type": "code",
   "execution_count": null,
   "metadata": {},
   "outputs": [],
   "source": [
    "k3_x = [i[0] for i in kendrick_3d]\n",
    "k3_y = [i[1] for i in kendrick_3d]\n",
    "k3_z = [i[2] for i in kendrick_3d]"
   ]
  }
 ],
 "metadata": {
  "kernelspec": {
   "display_name": "Python 3",
   "language": "python",
   "name": "python3"
  },
  "language_info": {
   "codemirror_mode": {
    "name": "ipython",
    "version": 3
   },
   "file_extension": ".py",
   "mimetype": "text/x-python",
   "name": "python",
   "nbconvert_exporter": "python",
   "pygments_lexer": "ipython3",
   "version": "3.6.9"
  },
  "toc": {
   "base_numbering": 1,
   "nav_menu": {},
   "number_sections": true,
   "sideBar": true,
   "skip_h1_title": false,
   "title_cell": "Table of Contents",
   "title_sidebar": "Contents",
   "toc_cell": false,
   "toc_position": {},
   "toc_section_display": true,
   "toc_window_display": true
  }
 },
 "nbformat": 4,
 "nbformat_minor": 2
}
